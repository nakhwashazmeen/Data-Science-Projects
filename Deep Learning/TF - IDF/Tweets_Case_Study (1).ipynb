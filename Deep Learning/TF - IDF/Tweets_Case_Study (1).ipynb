{
 "cells": [
  {
   "cell_type": "code",
   "execution_count": 1,
   "id": "2c531260",
   "metadata": {
    "ExecuteTime": {
     "end_time": "2022-07-07T04:27:14.985088Z",
     "start_time": "2022-07-07T04:26:01.300390Z"
    }
   },
   "outputs": [
    {
     "name": "stderr",
     "output_type": "stream",
     "text": [
      "[nltk_data] Downloading package stopwords to\n",
      "[nltk_data]     C:\\Users\\RupeshDS\\AppData\\Roaming\\nltk_data...\n",
      "[nltk_data]   Package stopwords is already up-to-date!\n"
     ]
    }
   ],
   "source": [
    "#Data handling Libraries\n",
    "import pandas as pd\n",
    "import numpy as np\n",
    "import scipy\n",
    "from scipy.sparse import csr_matrix\n",
    "import tensorflow as tf\n",
    "from tensorflow.keras.models import Sequential\n",
    "from tensorflow.keras.layers import Dense\n",
    "\n",
    "#Data Preprocessing Libraries\n",
    "from sklearn.preprocessing import LabelEncoder\n",
    "from sklearn.feature_extraction.text import TfidfVectorizer\n",
    "\n",
    "# Data Validation Split\n",
    "from sklearn.model_selection import train_test_split\n",
    "from sklearn.metrics import accuracy_score\n",
    "\n",
    "#Data Visualization Libraries\n",
    "import matplotlib.pyplot as plt\n",
    "\n",
    "# Text Cleaning Libraries\n",
    "import re\n",
    "import nltk\n",
    "from nltk.corpus import stopwords \n",
    "nltk.download('stopwords')\n",
    "stops = stopwords.words(\"english\")"
   ]
  },
  {
   "cell_type": "code",
   "execution_count": 2,
   "id": "2be20599",
   "metadata": {
    "ExecuteTime": {
     "end_time": "2022-07-07T04:27:15.444461Z",
     "start_time": "2022-07-07T04:27:14.985088Z"
    }
   },
   "outputs": [
    {
     "data": {
      "text/html": [
       "<div>\n",
       "<style scoped>\n",
       "    .dataframe tbody tr th:only-of-type {\n",
       "        vertical-align: middle;\n",
       "    }\n",
       "\n",
       "    .dataframe tbody tr th {\n",
       "        vertical-align: top;\n",
       "    }\n",
       "\n",
       "    .dataframe thead th {\n",
       "        text-align: right;\n",
       "    }\n",
       "</style>\n",
       "<table border=\"1\" class=\"dataframe\">\n",
       "  <thead>\n",
       "    <tr style=\"text-align: right;\">\n",
       "      <th></th>\n",
       "      <th>tweet_id</th>\n",
       "      <th>airline_sentiment</th>\n",
       "      <th>airline_sentiment_confidence</th>\n",
       "      <th>negativereason</th>\n",
       "      <th>negativereason_confidence</th>\n",
       "      <th>airline</th>\n",
       "      <th>airline_sentiment_gold</th>\n",
       "      <th>name</th>\n",
       "      <th>negativereason_gold</th>\n",
       "      <th>retweet_count</th>\n",
       "      <th>text</th>\n",
       "      <th>tweet_coord</th>\n",
       "      <th>tweet_created</th>\n",
       "      <th>tweet_location</th>\n",
       "      <th>user_timezone</th>\n",
       "    </tr>\n",
       "  </thead>\n",
       "  <tbody>\n",
       "    <tr>\n",
       "      <th>0</th>\n",
       "      <td>5.703060e+17</td>\n",
       "      <td>neutral</td>\n",
       "      <td>1.0000</td>\n",
       "      <td>NaN</td>\n",
       "      <td>NaN</td>\n",
       "      <td>Virgin America</td>\n",
       "      <td>NaN</td>\n",
       "      <td>cairdin</td>\n",
       "      <td>NaN</td>\n",
       "      <td>0</td>\n",
       "      <td>@VirginAmerica What @dhepburn said.</td>\n",
       "      <td>NaN</td>\n",
       "      <td>24/02/2015 11:35</td>\n",
       "      <td>NaN</td>\n",
       "      <td>Eastern Time (US &amp; Canada)</td>\n",
       "    </tr>\n",
       "    <tr>\n",
       "      <th>1</th>\n",
       "      <td>5.703010e+17</td>\n",
       "      <td>positive</td>\n",
       "      <td>0.3486</td>\n",
       "      <td>NaN</td>\n",
       "      <td>0.0000</td>\n",
       "      <td>Virgin America</td>\n",
       "      <td>NaN</td>\n",
       "      <td>jnardino</td>\n",
       "      <td>NaN</td>\n",
       "      <td>0</td>\n",
       "      <td>@VirginAmerica plus you've added commercials t...</td>\n",
       "      <td>NaN</td>\n",
       "      <td>24/02/2015 11:15</td>\n",
       "      <td>NaN</td>\n",
       "      <td>Pacific Time (US &amp; Canada)</td>\n",
       "    </tr>\n",
       "    <tr>\n",
       "      <th>2</th>\n",
       "      <td>5.703010e+17</td>\n",
       "      <td>neutral</td>\n",
       "      <td>0.6837</td>\n",
       "      <td>NaN</td>\n",
       "      <td>NaN</td>\n",
       "      <td>Virgin America</td>\n",
       "      <td>NaN</td>\n",
       "      <td>yvonnalynn</td>\n",
       "      <td>NaN</td>\n",
       "      <td>0</td>\n",
       "      <td>@VirginAmerica I didn't today... Must mean I n...</td>\n",
       "      <td>NaN</td>\n",
       "      <td>24/02/2015 11:15</td>\n",
       "      <td>Lets Play</td>\n",
       "      <td>Central Time (US &amp; Canada)</td>\n",
       "    </tr>\n",
       "    <tr>\n",
       "      <th>3</th>\n",
       "      <td>5.703010e+17</td>\n",
       "      <td>negative</td>\n",
       "      <td>1.0000</td>\n",
       "      <td>Bad Flight</td>\n",
       "      <td>0.7033</td>\n",
       "      <td>Virgin America</td>\n",
       "      <td>NaN</td>\n",
       "      <td>jnardino</td>\n",
       "      <td>NaN</td>\n",
       "      <td>0</td>\n",
       "      <td>@VirginAmerica it's really aggressive to blast...</td>\n",
       "      <td>NaN</td>\n",
       "      <td>24/02/2015 11:15</td>\n",
       "      <td>NaN</td>\n",
       "      <td>Pacific Time (US &amp; Canada)</td>\n",
       "    </tr>\n",
       "    <tr>\n",
       "      <th>4</th>\n",
       "      <td>5.703010e+17</td>\n",
       "      <td>negative</td>\n",
       "      <td>1.0000</td>\n",
       "      <td>Can't Tell</td>\n",
       "      <td>1.0000</td>\n",
       "      <td>Virgin America</td>\n",
       "      <td>NaN</td>\n",
       "      <td>jnardino</td>\n",
       "      <td>NaN</td>\n",
       "      <td>0</td>\n",
       "      <td>@VirginAmerica and it's a really big bad thing...</td>\n",
       "      <td>NaN</td>\n",
       "      <td>24/02/2015 11:14</td>\n",
       "      <td>NaN</td>\n",
       "      <td>Pacific Time (US &amp; Canada)</td>\n",
       "    </tr>\n",
       "  </tbody>\n",
       "</table>\n",
       "</div>"
      ],
      "text/plain": [
       "       tweet_id airline_sentiment  airline_sentiment_confidence  \\\n",
       "0  5.703060e+17           neutral                        1.0000   \n",
       "1  5.703010e+17          positive                        0.3486   \n",
       "2  5.703010e+17           neutral                        0.6837   \n",
       "3  5.703010e+17          negative                        1.0000   \n",
       "4  5.703010e+17          negative                        1.0000   \n",
       "\n",
       "  negativereason  negativereason_confidence         airline  \\\n",
       "0            NaN                        NaN  Virgin America   \n",
       "1            NaN                     0.0000  Virgin America   \n",
       "2            NaN                        NaN  Virgin America   \n",
       "3     Bad Flight                     0.7033  Virgin America   \n",
       "4     Can't Tell                     1.0000  Virgin America   \n",
       "\n",
       "  airline_sentiment_gold        name negativereason_gold  retweet_count  \\\n",
       "0                    NaN     cairdin                 NaN              0   \n",
       "1                    NaN    jnardino                 NaN              0   \n",
       "2                    NaN  yvonnalynn                 NaN              0   \n",
       "3                    NaN    jnardino                 NaN              0   \n",
       "4                    NaN    jnardino                 NaN              0   \n",
       "\n",
       "                                                text tweet_coord  \\\n",
       "0                @VirginAmerica What @dhepburn said.         NaN   \n",
       "1  @VirginAmerica plus you've added commercials t...         NaN   \n",
       "2  @VirginAmerica I didn't today... Must mean I n...         NaN   \n",
       "3  @VirginAmerica it's really aggressive to blast...         NaN   \n",
       "4  @VirginAmerica and it's a really big bad thing...         NaN   \n",
       "\n",
       "      tweet_created tweet_location               user_timezone  \n",
       "0  24/02/2015 11:35            NaN  Eastern Time (US & Canada)  \n",
       "1  24/02/2015 11:15            NaN  Pacific Time (US & Canada)  \n",
       "2  24/02/2015 11:15      Lets Play  Central Time (US & Canada)  \n",
       "3  24/02/2015 11:15            NaN  Pacific Time (US & Canada)  \n",
       "4  24/02/2015 11:14            NaN  Pacific Time (US & Canada)  "
      ]
     },
     "execution_count": 2,
     "metadata": {},
     "output_type": "execute_result"
    }
   ],
   "source": [
    "df = pd.read_csv(\"Tweets.csv\")\n",
    "df.head()"
   ]
  },
  {
   "cell_type": "markdown",
   "id": "655f661f",
   "metadata": {},
   "source": [
    "## For performing sentiment analysis, can you pickup which columns would be useful?"
   ]
  },
  {
   "cell_type": "code",
   "execution_count": 3,
   "id": "21eadbc0",
   "metadata": {
    "ExecuteTime": {
     "end_time": "2022-07-07T04:27:15.457472Z",
     "start_time": "2022-07-07T04:27:15.447466Z"
    }
   },
   "outputs": [],
   "source": [
    "df_sent = df[[\"airline_sentiment\",\"text\"]]\n",
    "# To perform sentiment analysis we need the airline_sentiment and the text."
   ]
  },
  {
   "cell_type": "markdown",
   "id": "35326b9d",
   "metadata": {},
   "source": [
    "## There are three sentiment positive, negative & neutral. What is the average count of each sentiment?\n"
   ]
  },
  {
   "cell_type": "code",
   "execution_count": 4,
   "id": "57fd0595",
   "metadata": {
    "ExecuteTime": {
     "end_time": "2022-07-07T04:27:17.221307Z",
     "start_time": "2022-07-07T04:27:15.463475Z"
    }
   },
   "outputs": [
    {
     "data": {
      "text/plain": [
       "<AxesSubplot:>"
      ]
     },
     "execution_count": 4,
     "metadata": {},
     "output_type": "execute_result"
    },
    {
     "data": {
      "image/png": "[encoded data removed]",
      "text/plain": [
       "<Figure size 432x288 with 1 Axes>"
      ]
     },
     "metadata": {
      "needs_background": "light"
     },
     "output_type": "display_data"
    }
   ],
   "source": [
    "df[\"airline_sentiment\"].value_counts().plot(kind=\"barh\")\n",
    "# The max sentiments is followed by below graph is negative then neutral then positive"
   ]
  },
  {
   "cell_type": "markdown",
   "id": "9210f34c",
   "metadata": {},
   "source": [
    "## What are some of thecommon negative feedbacks given?\n",
    "## What is the most common negative feedback given?"
   ]
  },
  {
   "cell_type": "code",
   "execution_count": 5,
   "id": "801e16e7",
   "metadata": {
    "ExecuteTime": {
     "end_time": "2022-07-07T04:27:17.509118Z",
     "start_time": "2022-07-07T04:27:17.221307Z"
    }
   },
   "outputs": [
    {
     "data": {
      "text/plain": [
       "<AxesSubplot:>"
      ]
     },
     "execution_count": 5,
     "metadata": {},
     "output_type": "execute_result"
    },
    {
     "data": {
      "image/png": "[encoded data removed]",
      "text/plain": [
       "<Figure size 432x288 with 1 Axes>"
      ]
     },
     "metadata": {
      "needs_background": "light"
     },
     "output_type": "display_data"
    }
   ],
   "source": [
    "df[\"negativereason\"].value_counts().plot(kind=\"barh\")\n",
    "# from the below graph we can conclude the maximum common negative feedbacks"
   ]
  },
  {
   "cell_type": "markdown",
   "id": "ce24bd7c",
   "metadata": {},
   "source": [
    "## How many different airlines are present in the dataset?"
   ]
  },
  {
   "cell_type": "code",
   "execution_count": 6,
   "id": "390c6fd8",
   "metadata": {
    "ExecuteTime": {
     "end_time": "2022-07-07T04:27:17.753282Z",
     "start_time": "2022-07-07T04:27:17.511120Z"
    }
   },
   "outputs": [
    {
     "data": {
      "text/plain": [
       "<AxesSubplot:>"
      ]
     },
     "execution_count": 6,
     "metadata": {},
     "output_type": "execute_result"
    },
    {
     "data": {
      "image/png": "[encoded data removed]",
      "text/plain": [
       "<Figure size 432x288 with 1 Axes>"
      ]
     },
     "metadata": {
      "needs_background": "light"
     },
     "output_type": "display_data"
    }
   ],
   "source": [
    "df[\"airline\"].value_counts().plot(kind=\"barh\")\n",
    "# From below graph we see the different types of airline"
   ]
  },
  {
   "cell_type": "markdown",
   "id": "5a139473",
   "metadata": {},
   "source": [
    "## Could you generate the no. of sentiments of each airline from the data?\n",
    "## Which airline has the maximum negative sentiments?"
   ]
  },
  {
   "cell_type": "code",
   "execution_count": 7,
   "id": "70b39490",
   "metadata": {
    "ExecuteTime": {
     "end_time": "2022-07-07T04:27:17.926211Z",
     "start_time": "2022-07-07T04:27:17.755282Z"
    }
   },
   "outputs": [],
   "source": [
    "df_airline_sentiment = pd.crosstab(df[\"airline\"],df[\"airline_sentiment\"])\n"
   ]
  },
  {
   "cell_type": "code",
   "execution_count": 8,
   "id": "9a4b762e",
   "metadata": {
    "ExecuteTime": {
     "end_time": "2022-07-07T04:27:18.279446Z",
     "start_time": "2022-07-07T04:27:17.936218Z"
    }
   },
   "outputs": [
    {
     "data": {
      "text/plain": [
       "<AxesSubplot:xlabel='airline'>"
      ]
     },
     "execution_count": 8,
     "metadata": {},
     "output_type": "execute_result"
    },
    {
     "data": {
      "image/png": "[encoded data removed]",
      "text/plain": [
       "<Figure size 720x720 with 1 Axes>"
      ]
     },
     "metadata": {
      "needs_background": "light"
     },
     "output_type": "display_data"
    }
   ],
   "source": [
    "df_airline_sentiment.plot(kind=\"bar\",figsize=(10,10))\n",
    "# From below graph we conclude the United states have maximum negative feedback"
   ]
  },
  {
   "cell_type": "markdown",
   "id": "99905d35",
   "metadata": {},
   "source": [
    "## Is there a specific day where a lot of negative feedbacks were given?"
   ]
  },
  {
   "cell_type": "code",
   "execution_count": 9,
   "id": "495b1314",
   "metadata": {
    "ExecuteTime": {
     "end_time": "2022-07-07T04:27:21.161657Z",
     "start_time": "2022-07-07T04:27:18.281450Z"
    }
   },
   "outputs": [],
   "source": [
    "df[\"tweet_created\"] = pd.to_datetime(df[\"tweet_created\"]).dt.strftime(\"%d-%m-%Y\")"
   ]
  },
  {
   "cell_type": "code",
   "execution_count": 10,
   "id": "44ba6b86",
   "metadata": {
    "ExecuteTime": {
     "end_time": "2022-07-07T04:27:21.200303Z",
     "start_time": "2022-07-07T04:27:21.161657Z"
    }
   },
   "outputs": [
    {
     "data": {
      "text/html": [
       "<div>\n",
       "<style scoped>\n",
       "    .dataframe tbody tr th:only-of-type {\n",
       "        vertical-align: middle;\n",
       "    }\n",
       "\n",
       "    .dataframe tbody tr th {\n",
       "        vertical-align: top;\n",
       "    }\n",
       "\n",
       "    .dataframe thead th {\n",
       "        text-align: right;\n",
       "    }\n",
       "</style>\n",
       "<table border=\"1\" class=\"dataframe\">\n",
       "  <thead>\n",
       "    <tr style=\"text-align: right;\">\n",
       "      <th></th>\n",
       "      <th>tweet_id</th>\n",
       "      <th>airline_sentiment</th>\n",
       "      <th>airline_sentiment_confidence</th>\n",
       "      <th>negativereason</th>\n",
       "      <th>negativereason_confidence</th>\n",
       "      <th>airline</th>\n",
       "      <th>airline_sentiment_gold</th>\n",
       "      <th>name</th>\n",
       "      <th>negativereason_gold</th>\n",
       "      <th>retweet_count</th>\n",
       "      <th>text</th>\n",
       "      <th>tweet_coord</th>\n",
       "      <th>tweet_created</th>\n",
       "      <th>tweet_location</th>\n",
       "      <th>user_timezone</th>\n",
       "    </tr>\n",
       "  </thead>\n",
       "  <tbody>\n",
       "    <tr>\n",
       "      <th>0</th>\n",
       "      <td>5.703060e+17</td>\n",
       "      <td>neutral</td>\n",
       "      <td>1.0000</td>\n",
       "      <td>NaN</td>\n",
       "      <td>NaN</td>\n",
       "      <td>Virgin America</td>\n",
       "      <td>NaN</td>\n",
       "      <td>cairdin</td>\n",
       "      <td>NaN</td>\n",
       "      <td>0</td>\n",
       "      <td>@VirginAmerica What @dhepburn said.</td>\n",
       "      <td>NaN</td>\n",
       "      <td>24-02-2015</td>\n",
       "      <td>NaN</td>\n",
       "      <td>Eastern Time (US &amp; Canada)</td>\n",
       "    </tr>\n",
       "    <tr>\n",
       "      <th>1</th>\n",
       "      <td>5.703010e+17</td>\n",
       "      <td>positive</td>\n",
       "      <td>0.3486</td>\n",
       "      <td>NaN</td>\n",
       "      <td>0.0000</td>\n",
       "      <td>Virgin America</td>\n",
       "      <td>NaN</td>\n",
       "      <td>jnardino</td>\n",
       "      <td>NaN</td>\n",
       "      <td>0</td>\n",
       "      <td>@VirginAmerica plus you've added commercials t...</td>\n",
       "      <td>NaN</td>\n",
       "      <td>24-02-2015</td>\n",
       "      <td>NaN</td>\n",
       "      <td>Pacific Time (US &amp; Canada)</td>\n",
       "    </tr>\n",
       "    <tr>\n",
       "      <th>2</th>\n",
       "      <td>5.703010e+17</td>\n",
       "      <td>neutral</td>\n",
       "      <td>0.6837</td>\n",
       "      <td>NaN</td>\n",
       "      <td>NaN</td>\n",
       "      <td>Virgin America</td>\n",
       "      <td>NaN</td>\n",
       "      <td>yvonnalynn</td>\n",
       "      <td>NaN</td>\n",
       "      <td>0</td>\n",
       "      <td>@VirginAmerica I didn't today... Must mean I n...</td>\n",
       "      <td>NaN</td>\n",
       "      <td>24-02-2015</td>\n",
       "      <td>Lets Play</td>\n",
       "      <td>Central Time (US &amp; Canada)</td>\n",
       "    </tr>\n",
       "    <tr>\n",
       "      <th>3</th>\n",
       "      <td>5.703010e+17</td>\n",
       "      <td>negative</td>\n",
       "      <td>1.0000</td>\n",
       "      <td>Bad Flight</td>\n",
       "      <td>0.7033</td>\n",
       "      <td>Virgin America</td>\n",
       "      <td>NaN</td>\n",
       "      <td>jnardino</td>\n",
       "      <td>NaN</td>\n",
       "      <td>0</td>\n",
       "      <td>@VirginAmerica it's really aggressive to blast...</td>\n",
       "      <td>NaN</td>\n",
       "      <td>24-02-2015</td>\n",
       "      <td>NaN</td>\n",
       "      <td>Pacific Time (US &amp; Canada)</td>\n",
       "    </tr>\n",
       "    <tr>\n",
       "      <th>4</th>\n",
       "      <td>5.703010e+17</td>\n",
       "      <td>negative</td>\n",
       "      <td>1.0000</td>\n",
       "      <td>Can't Tell</td>\n",
       "      <td>1.0000</td>\n",
       "      <td>Virgin America</td>\n",
       "      <td>NaN</td>\n",
       "      <td>jnardino</td>\n",
       "      <td>NaN</td>\n",
       "      <td>0</td>\n",
       "      <td>@VirginAmerica and it's a really big bad thing...</td>\n",
       "      <td>NaN</td>\n",
       "      <td>24-02-2015</td>\n",
       "      <td>NaN</td>\n",
       "      <td>Pacific Time (US &amp; Canada)</td>\n",
       "    </tr>\n",
       "  </tbody>\n",
       "</table>\n",
       "</div>"
      ],
      "text/plain": [
       "       tweet_id airline_sentiment  airline_sentiment_confidence  \\\n",
       "0  5.703060e+17           neutral                        1.0000   \n",
       "1  5.703010e+17          positive                        0.3486   \n",
       "2  5.703010e+17           neutral                        0.6837   \n",
       "3  5.703010e+17          negative                        1.0000   \n",
       "4  5.703010e+17          negative                        1.0000   \n",
       "\n",
       "  negativereason  negativereason_confidence         airline  \\\n",
       "0            NaN                        NaN  Virgin America   \n",
       "1            NaN                     0.0000  Virgin America   \n",
       "2            NaN                        NaN  Virgin America   \n",
       "3     Bad Flight                     0.7033  Virgin America   \n",
       "4     Can't Tell                     1.0000  Virgin America   \n",
       "\n",
       "  airline_sentiment_gold        name negativereason_gold  retweet_count  \\\n",
       "0                    NaN     cairdin                 NaN              0   \n",
       "1                    NaN    jnardino                 NaN              0   \n",
       "2                    NaN  yvonnalynn                 NaN              0   \n",
       "3                    NaN    jnardino                 NaN              0   \n",
       "4                    NaN    jnardino                 NaN              0   \n",
       "\n",
       "                                                text tweet_coord  \\\n",
       "0                @VirginAmerica What @dhepburn said.         NaN   \n",
       "1  @VirginAmerica plus you've added commercials t...         NaN   \n",
       "2  @VirginAmerica I didn't today... Must mean I n...         NaN   \n",
       "3  @VirginAmerica it's really aggressive to blast...         NaN   \n",
       "4  @VirginAmerica and it's a really big bad thing...         NaN   \n",
       "\n",
       "  tweet_created tweet_location               user_timezone  \n",
       "0    24-02-2015            NaN  Eastern Time (US & Canada)  \n",
       "1    24-02-2015            NaN  Pacific Time (US & Canada)  \n",
       "2    24-02-2015      Lets Play  Central Time (US & Canada)  \n",
       "3    24-02-2015            NaN  Pacific Time (US & Canada)  \n",
       "4    24-02-2015            NaN  Pacific Time (US & Canada)  "
      ]
     },
     "execution_count": 10,
     "metadata": {},
     "output_type": "execute_result"
    }
   ],
   "source": [
    "df.head()"
   ]
  },
  {
   "cell_type": "code",
   "execution_count": 11,
   "id": "16088e85",
   "metadata": {
    "ExecuteTime": {
     "end_time": "2022-07-07T04:27:21.338860Z",
     "start_time": "2022-07-07T04:27:21.203305Z"
    }
   },
   "outputs": [],
   "source": [
    "df_date_time = pd.crosstab(df[\"tweet_created\"],df[\"airline_sentiment\"])"
   ]
  },
  {
   "cell_type": "code",
   "execution_count": 12,
   "id": "4e9a93f3",
   "metadata": {
    "ExecuteTime": {
     "end_time": "2022-07-07T04:27:21.772397Z",
     "start_time": "2022-07-07T04:27:21.341858Z"
    }
   },
   "outputs": [
    {
     "data": {
      "text/plain": [
       "<AxesSubplot:xlabel='tweet_created'>"
      ]
     },
     "execution_count": 12,
     "metadata": {},
     "output_type": "execute_result"
    },
    {
     "data": {
      "image/png": "[encoded data removed]",
      "text/plain": [
       "<Figure size 432x288 with 1 Axes>"
      ]
     },
     "metadata": {
      "needs_background": "light"
     },
     "output_type": "display_data"
    }
   ],
   "source": [
    "df_date_time.plot(kind=\"bar\")"
   ]
  },
  {
   "cell_type": "markdown",
   "id": "d9f894ff",
   "metadata": {},
   "source": [
    "## Data Cleaning"
   ]
  },
  {
   "cell_type": "code",
   "execution_count": 13,
   "id": "e94a112d",
   "metadata": {
    "ExecuteTime": {
     "end_time": "2022-07-07T04:27:21.796414Z",
     "start_time": "2022-07-07T04:27:21.775400Z"
    }
   },
   "outputs": [
    {
     "data": {
      "text/html": [
       "<div>\n",
       "<style scoped>\n",
       "    .dataframe tbody tr th:only-of-type {\n",
       "        vertical-align: middle;\n",
       "    }\n",
       "\n",
       "    .dataframe tbody tr th {\n",
       "        vertical-align: top;\n",
       "    }\n",
       "\n",
       "    .dataframe thead th {\n",
       "        text-align: right;\n",
       "    }\n",
       "</style>\n",
       "<table border=\"1\" class=\"dataframe\">\n",
       "  <thead>\n",
       "    <tr style=\"text-align: right;\">\n",
       "      <th></th>\n",
       "      <th>airline_sentiment</th>\n",
       "      <th>text</th>\n",
       "    </tr>\n",
       "  </thead>\n",
       "  <tbody>\n",
       "    <tr>\n",
       "      <th>0</th>\n",
       "      <td>neutral</td>\n",
       "      <td>@VirginAmerica What @dhepburn said.</td>\n",
       "    </tr>\n",
       "    <tr>\n",
       "      <th>1</th>\n",
       "      <td>positive</td>\n",
       "      <td>@VirginAmerica plus you've added commercials t...</td>\n",
       "    </tr>\n",
       "    <tr>\n",
       "      <th>2</th>\n",
       "      <td>neutral</td>\n",
       "      <td>@VirginAmerica I didn't today... Must mean I n...</td>\n",
       "    </tr>\n",
       "    <tr>\n",
       "      <th>3</th>\n",
       "      <td>negative</td>\n",
       "      <td>@VirginAmerica it's really aggressive to blast...</td>\n",
       "    </tr>\n",
       "    <tr>\n",
       "      <th>4</th>\n",
       "      <td>negative</td>\n",
       "      <td>@VirginAmerica and it's a really big bad thing...</td>\n",
       "    </tr>\n",
       "    <tr>\n",
       "      <th>...</th>\n",
       "      <td>...</td>\n",
       "      <td>...</td>\n",
       "    </tr>\n",
       "    <tr>\n",
       "      <th>14635</th>\n",
       "      <td>positive</td>\n",
       "      <td>@AmericanAir thank you we got on a different f...</td>\n",
       "    </tr>\n",
       "    <tr>\n",
       "      <th>14636</th>\n",
       "      <td>negative</td>\n",
       "      <td>@AmericanAir leaving over 20 minutes Late Flig...</td>\n",
       "    </tr>\n",
       "    <tr>\n",
       "      <th>14637</th>\n",
       "      <td>neutral</td>\n",
       "      <td>@AmericanAir Please bring American Airlines to...</td>\n",
       "    </tr>\n",
       "    <tr>\n",
       "      <th>14638</th>\n",
       "      <td>negative</td>\n",
       "      <td>@AmericanAir you have my money, you change my ...</td>\n",
       "    </tr>\n",
       "    <tr>\n",
       "      <th>14639</th>\n",
       "      <td>neutral</td>\n",
       "      <td>@AmericanAir we have 8 ppl so we need 2 know h...</td>\n",
       "    </tr>\n",
       "  </tbody>\n",
       "</table>\n",
       "<p>14640 rows × 2 columns</p>\n",
       "</div>"
      ],
      "text/plain": [
       "      airline_sentiment                                               text\n",
       "0               neutral                @VirginAmerica What @dhepburn said.\n",
       "1              positive  @VirginAmerica plus you've added commercials t...\n",
       "2               neutral  @VirginAmerica I didn't today... Must mean I n...\n",
       "3              negative  @VirginAmerica it's really aggressive to blast...\n",
       "4              negative  @VirginAmerica and it's a really big bad thing...\n",
       "...                 ...                                                ...\n",
       "14635          positive  @AmericanAir thank you we got on a different f...\n",
       "14636          negative  @AmericanAir leaving over 20 minutes Late Flig...\n",
       "14637           neutral  @AmericanAir Please bring American Airlines to...\n",
       "14638          negative  @AmericanAir you have my money, you change my ...\n",
       "14639           neutral  @AmericanAir we have 8 ppl so we need 2 know h...\n",
       "\n",
       "[14640 rows x 2 columns]"
      ]
     },
     "execution_count": 13,
     "metadata": {},
     "output_type": "execute_result"
    }
   ],
   "source": [
    "df_sent"
   ]
  },
  {
   "cell_type": "code",
   "execution_count": 14,
   "id": "23beb33e",
   "metadata": {
    "ExecuteTime": {
     "end_time": "2022-07-07T04:27:21.889621Z",
     "start_time": "2022-07-07T04:27:21.799416Z"
    }
   },
   "outputs": [],
   "source": [
    "# Text cleaning is one of the impoortant steps in deep learning model building\n",
    "# In order yo do text cleaning we use 2 libraries namely NLTK - Natural Language Tool Kit and Regex - Regular expression"
   ]
  },
  {
   "cell_type": "code",
   "execution_count": 15,
   "id": "99378c68",
   "metadata": {
    "ExecuteTime": {
     "end_time": "2022-07-07T04:27:21.968190Z",
     "start_time": "2022-07-07T04:27:21.891613Z"
    }
   },
   "outputs": [],
   "source": [
    "def data_cleaning(text):\n",
    "    text = text.lower() # convert everything into lower case\n",
    "    text = re.sub(\"[^a-z]\",\" \",text) # (\"allow\",\"replace\",\"data\")\n",
    "    words = text.split()  # Split the entire sentence into words\n",
    "    imp_words = [w for w in words if w not in stops] # Picking up only imp words after filtering out the stop words\n",
    "    \n",
    "    return(\" \".join(imp_words))"
   ]
  },
  {
   "cell_type": "code",
   "execution_count": 16,
   "id": "7ec352b9",
   "metadata": {
    "ExecuteTime": {
     "end_time": "2022-07-07T04:27:22.103663Z",
     "start_time": "2022-07-07T04:27:21.971190Z"
    }
   },
   "outputs": [],
   "source": [
    "demo = \"India, officially the Republic of India (Hindi: Bhārat Gaṇarājya),[26] is a country in South Asia. It is the seventh-largest country by area, the second-most populous country, and the most populous democracy in the world. Bounded by the Indian Ocean on the south, the Arabian Sea on the southwest, and the Bay of Bengal on the southeast.\""
   ]
  },
  {
   "cell_type": "code",
   "execution_count": 17,
   "id": "7322b1ce",
   "metadata": {
    "ExecuteTime": {
     "end_time": "2022-07-07T04:27:22.222356Z",
     "start_time": "2022-07-07T04:27:22.112669Z"
    }
   },
   "outputs": [
    {
     "data": {
      "text/plain": [
       "'india officially republic india hindi bh rat ga ar jya country south asia seventh largest country area second populous country populous democracy world bounded indian ocean south arabian sea southwest bay bengal southeast'"
      ]
     },
     "execution_count": 17,
     "metadata": {},
     "output_type": "execute_result"
    }
   ],
   "source": [
    "data_cleaning(demo)"
   ]
  },
  {
   "cell_type": "code",
   "execution_count": 18,
   "id": "7010f060",
   "metadata": {
    "ExecuteTime": {
     "end_time": "2022-07-07T04:27:23.407879Z",
     "start_time": "2022-07-07T04:27:22.225359Z"
    }
   },
   "outputs": [
    {
     "name": "stderr",
     "output_type": "stream",
     "text": [
      "C:\\Users\\RupeshDS\\AppData\\Local\\Temp/ipykernel_3104/2698929073.py:1: SettingWithCopyWarning: \n",
      "A value is trying to be set on a copy of a slice from a DataFrame.\n",
      "Try using .loc[row_indexer,col_indexer] = value instead\n",
      "\n",
      "See the caveats in the documentation: https://pandas.pydata.org/pandas-docs/stable/user_guide/indexing.html#returning-a-view-versus-a-copy\n",
      "  df_sent[\"cleaned_text\"] = df[\"text\"].apply(lambda x : data_cleaning(x) )\n"
     ]
    }
   ],
   "source": [
    "df_sent[\"cleaned_text\"] = df[\"text\"].apply(lambda x : data_cleaning(x) ) "
   ]
  },
  {
   "cell_type": "code",
   "execution_count": 19,
   "id": "c9e13e5b",
   "metadata": {
    "ExecuteTime": {
     "end_time": "2022-07-07T04:27:23.438906Z",
     "start_time": "2022-07-07T04:27:23.410885Z"
    }
   },
   "outputs": [
    {
     "data": {
      "text/html": [
       "<div>\n",
       "<style scoped>\n",
       "    .dataframe tbody tr th:only-of-type {\n",
       "        vertical-align: middle;\n",
       "    }\n",
       "\n",
       "    .dataframe tbody tr th {\n",
       "        vertical-align: top;\n",
       "    }\n",
       "\n",
       "    .dataframe thead th {\n",
       "        text-align: right;\n",
       "    }\n",
       "</style>\n",
       "<table border=\"1\" class=\"dataframe\">\n",
       "  <thead>\n",
       "    <tr style=\"text-align: right;\">\n",
       "      <th></th>\n",
       "      <th>airline_sentiment</th>\n",
       "      <th>text</th>\n",
       "      <th>cleaned_text</th>\n",
       "    </tr>\n",
       "  </thead>\n",
       "  <tbody>\n",
       "    <tr>\n",
       "      <th>0</th>\n",
       "      <td>neutral</td>\n",
       "      <td>@VirginAmerica What @dhepburn said.</td>\n",
       "      <td>virginamerica dhepburn said</td>\n",
       "    </tr>\n",
       "    <tr>\n",
       "      <th>1</th>\n",
       "      <td>positive</td>\n",
       "      <td>@VirginAmerica plus you've added commercials t...</td>\n",
       "      <td>virginamerica plus added commercials experienc...</td>\n",
       "    </tr>\n",
       "    <tr>\n",
       "      <th>2</th>\n",
       "      <td>neutral</td>\n",
       "      <td>@VirginAmerica I didn't today... Must mean I n...</td>\n",
       "      <td>virginamerica today must mean need take anothe...</td>\n",
       "    </tr>\n",
       "    <tr>\n",
       "      <th>3</th>\n",
       "      <td>negative</td>\n",
       "      <td>@VirginAmerica it's really aggressive to blast...</td>\n",
       "      <td>virginamerica really aggressive blast obnoxiou...</td>\n",
       "    </tr>\n",
       "    <tr>\n",
       "      <th>4</th>\n",
       "      <td>negative</td>\n",
       "      <td>@VirginAmerica and it's a really big bad thing...</td>\n",
       "      <td>virginamerica really big bad thing</td>\n",
       "    </tr>\n",
       "  </tbody>\n",
       "</table>\n",
       "</div>"
      ],
      "text/plain": [
       "  airline_sentiment                                               text  \\\n",
       "0           neutral                @VirginAmerica What @dhepburn said.   \n",
       "1          positive  @VirginAmerica plus you've added commercials t...   \n",
       "2           neutral  @VirginAmerica I didn't today... Must mean I n...   \n",
       "3          negative  @VirginAmerica it's really aggressive to blast...   \n",
       "4          negative  @VirginAmerica and it's a really big bad thing...   \n",
       "\n",
       "                                        cleaned_text  \n",
       "0                        virginamerica dhepburn said  \n",
       "1  virginamerica plus added commercials experienc...  \n",
       "2  virginamerica today must mean need take anothe...  \n",
       "3  virginamerica really aggressive blast obnoxiou...  \n",
       "4                 virginamerica really big bad thing  "
      ]
     },
     "execution_count": 19,
     "metadata": {},
     "output_type": "execute_result"
    }
   ],
   "source": [
    "df_sent.head()"
   ]
  },
  {
   "cell_type": "code",
   "execution_count": 20,
   "id": "85137a97",
   "metadata": {
    "ExecuteTime": {
     "end_time": "2022-07-07T04:27:23.587420Z",
     "start_time": "2022-07-07T04:27:23.441909Z"
    }
   },
   "outputs": [],
   "source": [
    "le = LabelEncoder()"
   ]
  },
  {
   "cell_type": "code",
   "execution_count": 21,
   "id": "56935ae8",
   "metadata": {
    "ExecuteTime": {
     "end_time": "2022-07-07T04:27:23.686054Z",
     "start_time": "2022-07-07T04:27:23.593422Z"
    }
   },
   "outputs": [
    {
     "name": "stderr",
     "output_type": "stream",
     "text": [
      "C:\\Users\\RupeshDS\\AppData\\Local\\Temp/ipykernel_3104/3814891589.py:1: SettingWithCopyWarning: \n",
      "A value is trying to be set on a copy of a slice from a DataFrame.\n",
      "Try using .loc[row_indexer,col_indexer] = value instead\n",
      "\n",
      "See the caveats in the documentation: https://pandas.pydata.org/pandas-docs/stable/user_guide/indexing.html#returning-a-view-versus-a-copy\n",
      "  df_sent[\"airline_sentiment\"] = le.fit_transform(df_sent[\"airline_sentiment\"])\n"
     ]
    }
   ],
   "source": [
    "df_sent[\"airline_sentiment\"] = le.fit_transform(df_sent[\"airline_sentiment\"])\n",
    "# 1 = Neutral ,  2 = Positive , 0 = Negative"
   ]
  },
  {
   "cell_type": "code",
   "execution_count": 22,
   "id": "22931ebf",
   "metadata": {
    "ExecuteTime": {
     "end_time": "2022-07-07T04:27:23.841323Z",
     "start_time": "2022-07-07T04:27:23.689054Z"
    }
   },
   "outputs": [
    {
     "data": {
      "text/html": [
       "<div>\n",
       "<style scoped>\n",
       "    .dataframe tbody tr th:only-of-type {\n",
       "        vertical-align: middle;\n",
       "    }\n",
       "\n",
       "    .dataframe tbody tr th {\n",
       "        vertical-align: top;\n",
       "    }\n",
       "\n",
       "    .dataframe thead th {\n",
       "        text-align: right;\n",
       "    }\n",
       "</style>\n",
       "<table border=\"1\" class=\"dataframe\">\n",
       "  <thead>\n",
       "    <tr style=\"text-align: right;\">\n",
       "      <th></th>\n",
       "      <th>airline_sentiment</th>\n",
       "      <th>text</th>\n",
       "      <th>cleaned_text</th>\n",
       "    </tr>\n",
       "  </thead>\n",
       "  <tbody>\n",
       "    <tr>\n",
       "      <th>0</th>\n",
       "      <td>1</td>\n",
       "      <td>@VirginAmerica What @dhepburn said.</td>\n",
       "      <td>virginamerica dhepburn said</td>\n",
       "    </tr>\n",
       "    <tr>\n",
       "      <th>1</th>\n",
       "      <td>2</td>\n",
       "      <td>@VirginAmerica plus you've added commercials t...</td>\n",
       "      <td>virginamerica plus added commercials experienc...</td>\n",
       "    </tr>\n",
       "    <tr>\n",
       "      <th>2</th>\n",
       "      <td>1</td>\n",
       "      <td>@VirginAmerica I didn't today... Must mean I n...</td>\n",
       "      <td>virginamerica today must mean need take anothe...</td>\n",
       "    </tr>\n",
       "    <tr>\n",
       "      <th>3</th>\n",
       "      <td>0</td>\n",
       "      <td>@VirginAmerica it's really aggressive to blast...</td>\n",
       "      <td>virginamerica really aggressive blast obnoxiou...</td>\n",
       "    </tr>\n",
       "    <tr>\n",
       "      <th>4</th>\n",
       "      <td>0</td>\n",
       "      <td>@VirginAmerica and it's a really big bad thing...</td>\n",
       "      <td>virginamerica really big bad thing</td>\n",
       "    </tr>\n",
       "    <tr>\n",
       "      <th>...</th>\n",
       "      <td>...</td>\n",
       "      <td>...</td>\n",
       "      <td>...</td>\n",
       "    </tr>\n",
       "    <tr>\n",
       "      <th>14635</th>\n",
       "      <td>2</td>\n",
       "      <td>@AmericanAir thank you we got on a different f...</td>\n",
       "      <td>americanair thank got different flight chicago</td>\n",
       "    </tr>\n",
       "    <tr>\n",
       "      <th>14636</th>\n",
       "      <td>0</td>\n",
       "      <td>@AmericanAir leaving over 20 minutes Late Flig...</td>\n",
       "      <td>americanair leaving minutes late flight warnin...</td>\n",
       "    </tr>\n",
       "    <tr>\n",
       "      <th>14637</th>\n",
       "      <td>1</td>\n",
       "      <td>@AmericanAir Please bring American Airlines to...</td>\n",
       "      <td>americanair please bring american airlines bla...</td>\n",
       "    </tr>\n",
       "    <tr>\n",
       "      <th>14638</th>\n",
       "      <td>0</td>\n",
       "      <td>@AmericanAir you have my money, you change my ...</td>\n",
       "      <td>americanair money change flight answer phones ...</td>\n",
       "    </tr>\n",
       "    <tr>\n",
       "      <th>14639</th>\n",
       "      <td>1</td>\n",
       "      <td>@AmericanAir we have 8 ppl so we need 2 know h...</td>\n",
       "      <td>americanair ppl need know many seats next flig...</td>\n",
       "    </tr>\n",
       "  </tbody>\n",
       "</table>\n",
       "<p>14640 rows × 3 columns</p>\n",
       "</div>"
      ],
      "text/plain": [
       "       airline_sentiment                                               text  \\\n",
       "0                      1                @VirginAmerica What @dhepburn said.   \n",
       "1                      2  @VirginAmerica plus you've added commercials t...   \n",
       "2                      1  @VirginAmerica I didn't today... Must mean I n...   \n",
       "3                      0  @VirginAmerica it's really aggressive to blast...   \n",
       "4                      0  @VirginAmerica and it's a really big bad thing...   \n",
       "...                  ...                                                ...   \n",
       "14635                  2  @AmericanAir thank you we got on a different f...   \n",
       "14636                  0  @AmericanAir leaving over 20 minutes Late Flig...   \n",
       "14637                  1  @AmericanAir Please bring American Airlines to...   \n",
       "14638                  0  @AmericanAir you have my money, you change my ...   \n",
       "14639                  1  @AmericanAir we have 8 ppl so we need 2 know h...   \n",
       "\n",
       "                                            cleaned_text  \n",
       "0                            virginamerica dhepburn said  \n",
       "1      virginamerica plus added commercials experienc...  \n",
       "2      virginamerica today must mean need take anothe...  \n",
       "3      virginamerica really aggressive blast obnoxiou...  \n",
       "4                     virginamerica really big bad thing  \n",
       "...                                                  ...  \n",
       "14635     americanair thank got different flight chicago  \n",
       "14636  americanair leaving minutes late flight warnin...  \n",
       "14637  americanair please bring american airlines bla...  \n",
       "14638  americanair money change flight answer phones ...  \n",
       "14639  americanair ppl need know many seats next flig...  \n",
       "\n",
       "[14640 rows x 3 columns]"
      ]
     },
     "execution_count": 22,
     "metadata": {},
     "output_type": "execute_result"
    }
   ],
   "source": [
    "df_sent"
   ]
  },
  {
   "cell_type": "code",
   "execution_count": 23,
   "id": "7277de6b",
   "metadata": {
    "ExecuteTime": {
     "end_time": "2022-07-07T04:27:23.949128Z",
     "start_time": "2022-07-07T04:27:23.846323Z"
    }
   },
   "outputs": [],
   "source": [
    "x = df_sent[\"cleaned_text\"]\n",
    "y = df_sent[\"airline_sentiment\"]"
   ]
  },
  {
   "cell_type": "code",
   "execution_count": 24,
   "id": "36ace197",
   "metadata": {
    "ExecuteTime": {
     "end_time": "2022-07-07T04:27:24.216041Z",
     "start_time": "2022-07-07T04:27:23.952130Z"
    }
   },
   "outputs": [],
   "source": [
    "x_train,x_test,y_train,y_test = train_test_split(x,y,test_size=0.3,random_state=42)"
   ]
  },
  {
   "cell_type": "code",
   "execution_count": 25,
   "id": "62b26013",
   "metadata": {
    "ExecuteTime": {
     "end_time": "2022-07-07T04:27:24.223048Z",
     "start_time": "2022-07-07T04:27:24.218043Z"
    }
   },
   "outputs": [],
   "source": [
    "# We always fit_transform training data and transform the test data\n",
    "tf_idf = TfidfVectorizer()"
   ]
  },
  {
   "cell_type": "code",
   "execution_count": 26,
   "id": "5e91fc5c",
   "metadata": {
    "ExecuteTime": {
     "end_time": "2022-07-07T04:27:24.671460Z",
     "start_time": "2022-07-07T04:27:24.226049Z"
    }
   },
   "outputs": [],
   "source": [
    "x_train_tf = tf_idf.fit_transform(x_train)\n",
    "x_test_tf = tf_idf.transform(x_test)"
   ]
  },
  {
   "cell_type": "code",
   "execution_count": 27,
   "id": "000f4003",
   "metadata": {
    "ExecuteTime": {
     "end_time": "2022-07-07T04:27:24.693472Z",
     "start_time": "2022-07-07T04:27:24.674460Z"
    }
   },
   "outputs": [
    {
     "data": {
      "text/plain": [
       "11125"
      ]
     },
     "execution_count": 27,
     "metadata": {},
     "output_type": "execute_result"
    }
   ],
   "source": [
    "len(tf_idf.get_feature_names())"
   ]
  },
  {
   "cell_type": "code",
   "execution_count": 28,
   "id": "c9d54c22",
   "metadata": {
    "ExecuteTime": {
     "end_time": "2022-07-07T04:27:24.902364Z",
     "start_time": "2022-07-07T04:27:24.705483Z"
    }
   },
   "outputs": [],
   "source": [
    "x_train = csr_matrix.todense(x_train_tf)\n",
    "x_test = csr_matrix.todense(x_test_tf)"
   ]
  },
  {
   "cell_type": "code",
   "execution_count": 29,
   "id": "95218358",
   "metadata": {
    "ExecuteTime": {
     "end_time": "2022-07-07T04:27:24.911371Z",
     "start_time": "2022-07-07T04:27:24.904361Z"
    }
   },
   "outputs": [
    {
     "data": {
      "text/plain": [
       "(10248, 11125)"
      ]
     },
     "execution_count": 29,
     "metadata": {},
     "output_type": "execute_result"
    }
   ],
   "source": [
    "x_train.shape"
   ]
  },
  {
   "cell_type": "code",
   "execution_count": 30,
   "id": "ded3c519",
   "metadata": {
    "ExecuteTime": {
     "end_time": "2022-07-07T04:27:25.035837Z",
     "start_time": "2022-07-07T04:27:24.914369Z"
    }
   },
   "outputs": [],
   "source": [
    "# In the first layer give 11000 neurons\n",
    "# In the 2nd layer give 128 neurons\n",
    "# In third layer give 3 neurons\n",
    "# Since this is lable encoded we use sparse cotegorical cross entropy"
   ]
  },
  {
   "cell_type": "code",
   "execution_count": 31,
   "id": "0d1a781a",
   "metadata": {
    "ExecuteTime": {
     "end_time": "2022-07-07T04:27:32.066931Z",
     "start_time": "2022-07-07T04:27:25.037833Z"
    }
   },
   "outputs": [],
   "source": [
    "model = Sequential([\n",
    "    Dense(11000, activation= \"tanh\", input_shape = (11125,)),\n",
    "    Dense(128, activation= \"relu\"),\n",
    "    Dense(3, activation=\"softmax\")\n",
    "])"
   ]
  },
  {
   "cell_type": "code",
   "execution_count": 32,
   "id": "6f2ad5cd",
   "metadata": {
    "ExecuteTime": {
     "end_time": "2022-07-07T04:27:32.090545Z",
     "start_time": "2022-07-07T04:27:32.066931Z"
    }
   },
   "outputs": [
    {
     "name": "stdout",
     "output_type": "stream",
     "text": [
      "Model: \"sequential\"\n",
      "_________________________________________________________________\n",
      " Layer (type)                Output Shape              Param #   \n",
      "=================================================================\n",
      " dense (Dense)               (None, 11000)             122386000 \n",
      "                                                                 \n",
      " dense_1 (Dense)             (None, 128)               1408128   \n",
      "                                                                 \n",
      " dense_2 (Dense)             (None, 3)                 387       \n",
      "                                                                 \n",
      "=================================================================\n",
      "Total params: 123,794,515\n",
      "Trainable params: 123,794,515\n",
      "Non-trainable params: 0\n",
      "_________________________________________________________________\n"
     ]
    }
   ],
   "source": [
    "model.summary()"
   ]
  },
  {
   "cell_type": "code",
   "execution_count": 33,
   "id": "7b16bff9",
   "metadata": {
    "ExecuteTime": {
     "end_time": "2022-07-07T04:27:32.402667Z",
     "start_time": "2022-07-07T04:27:32.093545Z"
    }
   },
   "outputs": [],
   "source": [
    "model.compile(optimizer='adam', loss=\"sparse_categorical_crossentropy\", metrics=[\"accuracy\"])"
   ]
  },
  {
   "cell_type": "code",
   "execution_count": 34,
   "id": "d28e394c",
   "metadata": {
    "ExecuteTime": {
     "end_time": "2022-07-07T05:16:18.942370Z",
     "start_time": "2022-07-07T04:27:32.405669Z"
    }
   },
   "outputs": [
    {
     "name": "stdout",
     "output_type": "stream",
     "text": [
      "Epoch 1/10\n",
      "103/103 [==============================] - 320s 3s/step - loss: 0.6200 - accuracy: 0.7434 - val_loss: 0.5332 - val_accuracy: 0.7826\n",
      "Epoch 2/10\n",
      "103/103 [==============================] - 280s 3s/step - loss: 0.2611 - accuracy: 0.9035 - val_loss: 0.7082 - val_accuracy: 0.7723\n",
      "Epoch 3/10\n",
      "103/103 [==============================] - 290s 3s/step - loss: 0.1516 - accuracy: 0.9391 - val_loss: 0.9407 - val_accuracy: 0.7532\n",
      "Epoch 4/10\n",
      "103/103 [==============================] - 289s 3s/step - loss: 0.1100 - accuracy: 0.9548 - val_loss: 1.1165 - val_accuracy: 0.7475\n",
      "Epoch 5/10\n",
      "103/103 [==============================] - 288s 3s/step - loss: 0.0846 - accuracy: 0.9670 - val_loss: 1.3605 - val_accuracy: 0.7609\n",
      "Epoch 6/10\n",
      "103/103 [==============================] - 288s 3s/step - loss: 0.0566 - accuracy: 0.9790 - val_loss: 1.4890 - val_accuracy: 0.7525\n",
      "Epoch 7/10\n",
      "103/103 [==============================] - 293s 3s/step - loss: 0.0422 - accuracy: 0.9845 - val_loss: 1.6724 - val_accuracy: 0.7564\n",
      "Epoch 8/10\n",
      "103/103 [==============================] - 290s 3s/step - loss: 0.0331 - accuracy: 0.9892 - val_loss: 1.7540 - val_accuracy: 0.7448\n",
      "Epoch 9/10\n",
      "103/103 [==============================] - 293s 3s/step - loss: 0.0248 - accuracy: 0.9912 - val_loss: 1.9482 - val_accuracy: 0.7516\n",
      "Epoch 10/10\n",
      "103/103 [==============================] - 288s 3s/step - loss: 0.0206 - accuracy: 0.9915 - val_loss: 2.0682 - val_accuracy: 0.7509\n"
     ]
    }
   ],
   "source": [
    "history = model.fit(x_train, y_train,batch_size=100, epochs=10, validation_data=(x_test, y_test))"
   ]
  },
  {
   "cell_type": "code",
   "execution_count": 35,
   "id": "4872aae5",
   "metadata": {
    "ExecuteTime": {
     "end_time": "2022-07-07T05:39:26.134985Z",
     "start_time": "2022-07-07T05:39:26.081848Z"
    }
   },
   "outputs": [
    {
     "data": {
      "text/plain": [
       "[0.7433645725250244,\n",
       " 0.903493344783783,\n",
       " 0.9391100406646729,\n",
       " 0.954820454120636,\n",
       " 0.9670179486274719,\n",
       " 0.9790202975273132,\n",
       " 0.9844847917556763,\n",
       " 0.989168643951416,\n",
       " 0.9912177920341492,\n",
       " 0.9915105104446411]"
      ]
     },
     "execution_count": 35,
     "metadata": {},
     "output_type": "execute_result"
    }
   ],
   "source": [
    "history.history[\"accuracy\"]"
   ]
  },
  {
   "cell_type": "code",
   "execution_count": 37,
   "id": "21830ed5",
   "metadata": {
    "ExecuteTime": {
     "end_time": "2022-07-07T05:45:07.583806Z",
     "start_time": "2022-07-07T05:45:07.300626Z"
    }
   },
   "outputs": [
    {
     "name": "stderr",
     "output_type": "stream",
     "text": [
      "C:\\Users\\RupeshDS\\AppData\\Local\\Temp/ipykernel_3104/3512648393.py:6: UserWarning: Legend does not support 'T' instances.\n",
      "A proxy artist may be used instead.\n",
      "See: https://matplotlib.org/users/legend_guide.html#creating-artists-specifically-for-adding-to-the-legend-aka-proxy-artists\n",
      "  plt.legend(\"Training\", \"Testing\")\n",
      "C:\\Users\\RupeshDS\\AppData\\Local\\Temp/ipykernel_3104/3512648393.py:6: UserWarning: Legend does not support 'r' instances.\n",
      "A proxy artist may be used instead.\n",
      "See: https://matplotlib.org/users/legend_guide.html#creating-artists-specifically-for-adding-to-the-legend-aka-proxy-artists\n",
      "  plt.legend(\"Training\", \"Testing\")\n",
      "C:\\Users\\RupeshDS\\AppData\\Local\\Temp/ipykernel_3104/3512648393.py:6: UserWarning: Legend does not support 'a' instances.\n",
      "A proxy artist may be used instead.\n",
      "See: https://matplotlib.org/users/legend_guide.html#creating-artists-specifically-for-adding-to-the-legend-aka-proxy-artists\n",
      "  plt.legend(\"Training\", \"Testing\")\n",
      "C:\\Users\\RupeshDS\\AppData\\Local\\Temp/ipykernel_3104/3512648393.py:6: UserWarning: Legend does not support 'i' instances.\n",
      "A proxy artist may be used instead.\n",
      "See: https://matplotlib.org/users/legend_guide.html#creating-artists-specifically-for-adding-to-the-legend-aka-proxy-artists\n",
      "  plt.legend(\"Training\", \"Testing\")\n",
      "C:\\Users\\RupeshDS\\AppData\\Local\\Temp/ipykernel_3104/3512648393.py:6: UserWarning: Legend does not support 'n' instances.\n",
      "A proxy artist may be used instead.\n",
      "See: https://matplotlib.org/users/legend_guide.html#creating-artists-specifically-for-adding-to-the-legend-aka-proxy-artists\n",
      "  plt.legend(\"Training\", \"Testing\")\n"
     ]
    },
    {
     "data": {
      "text/plain": [
       "<matplotlib.legend.Legend at 0x30543d17c0>"
      ]
     },
     "execution_count": 37,
     "metadata": {},
     "output_type": "execute_result"
    },
    {
     "data": {
      "image/png": "[encoded data removed]",
      "text/plain": [
       "<Figure size 432x288 with 1 Axes>"
      ]
     },
     "metadata": {
      "needs_background": "light"
     },
     "output_type": "display_data"
    }
   ],
   "source": [
    "plt.plot(history.history[\"accuracy\"])\n",
    "plt.plot(history.history[\"val_accuracy\"])\n",
    "plt.xlabel(\"Epochs\")\n",
    "plt.ylabel(\"Accuracy\")\n",
    "plt.title(\"Accuracy plot\")\n",
    "plt.legend(\"Training\", \"Testing\")"
   ]
  },
  {
   "cell_type": "code",
   "execution_count": 39,
   "id": "d0131061",
   "metadata": {
    "ExecuteTime": {
     "end_time": "2022-07-07T05:45:55.784361Z",
     "start_time": "2022-07-07T05:45:55.497024Z"
    }
   },
   "outputs": [
    {
     "name": "stderr",
     "output_type": "stream",
     "text": [
      "C:\\Users\\RupeshDS\\AppData\\Local\\Temp/ipykernel_3104/1315551918.py:6: UserWarning: Legend does not support 'T' instances.\n",
      "A proxy artist may be used instead.\n",
      "See: https://matplotlib.org/users/legend_guide.html#creating-artists-specifically-for-adding-to-the-legend-aka-proxy-artists\n",
      "  plt.legend(\"Training\", \"Testing\")\n",
      "C:\\Users\\RupeshDS\\AppData\\Local\\Temp/ipykernel_3104/1315551918.py:6: UserWarning: Legend does not support 'r' instances.\n",
      "A proxy artist may be used instead.\n",
      "See: https://matplotlib.org/users/legend_guide.html#creating-artists-specifically-for-adding-to-the-legend-aka-proxy-artists\n",
      "  plt.legend(\"Training\", \"Testing\")\n",
      "C:\\Users\\RupeshDS\\AppData\\Local\\Temp/ipykernel_3104/1315551918.py:6: UserWarning: Legend does not support 'a' instances.\n",
      "A proxy artist may be used instead.\n",
      "See: https://matplotlib.org/users/legend_guide.html#creating-artists-specifically-for-adding-to-the-legend-aka-proxy-artists\n",
      "  plt.legend(\"Training\", \"Testing\")\n",
      "C:\\Users\\RupeshDS\\AppData\\Local\\Temp/ipykernel_3104/1315551918.py:6: UserWarning: Legend does not support 'i' instances.\n",
      "A proxy artist may be used instead.\n",
      "See: https://matplotlib.org/users/legend_guide.html#creating-artists-specifically-for-adding-to-the-legend-aka-proxy-artists\n",
      "  plt.legend(\"Training\", \"Testing\")\n",
      "C:\\Users\\RupeshDS\\AppData\\Local\\Temp/ipykernel_3104/1315551918.py:6: UserWarning: Legend does not support 'n' instances.\n",
      "A proxy artist may be used instead.\n",
      "See: https://matplotlib.org/users/legend_guide.html#creating-artists-specifically-for-adding-to-the-legend-aka-proxy-artists\n",
      "  plt.legend(\"Training\", \"Testing\")\n"
     ]
    },
    {
     "data": {
      "text/plain": [
       "<matplotlib.legend.Legend at 0x3055392fa0>"
      ]
     },
     "execution_count": 39,
     "metadata": {},
     "output_type": "execute_result"
    },
    {
     "data": {
      "image/png": "[encoded data removed]",
      "text/plain": [
       "<Figure size 432x288 with 1 Axes>"
      ]
     },
     "metadata": {
      "needs_background": "light"
     },
     "output_type": "display_data"
    }
   ],
   "source": [
    "plt.plot(history.history[\"loss\"])\n",
    "plt.plot(history.history[\"val_loss\"])\n",
    "plt.xlabel(\"Epochs\")\n",
    "plt.ylabel(\"loss\")\n",
    "plt.title(\"Loss plot\")\n",
    "plt.legend(\"Training\", \"Testing\")"
   ]
  },
  {
   "cell_type": "code",
   "execution_count": null,
   "id": "65bba1c7",
   "metadata": {},
   "outputs": [],
   "source": []
  }
 ],
 "metadata": {
  "kernelspec": {
   "display_name": "Python 3 (ipykernel)",
   "language": "python",
   "name": "python3"
  },
  "language_info": {
   "codemirror_mode": {
    "name": "ipython",
    "version": 3
   },
   "file_extension": ".py",
   "mimetype": "text/x-python",
   "name": "python",
   "nbconvert_exporter": "python",
   "pygments_lexer": "ipython3",
   "version": "3.9.7"
  },
  "varInspector": {
   "cols": {
    "lenName": 16,
    "lenType": 16,
    "lenVar": 40
   },
   "kernels_config": {
    "python": {
     "delete_cmd_postfix": "",
     "delete_cmd_prefix": "del ",
     "library": "var_list.py",
     "varRefreshCmd": "print(var_dic_list())"
    },
    "r": {
     "delete_cmd_postfix": ") ",
     "delete_cmd_prefix": "rm(",
     "library": "var_list.r",
     "varRefreshCmd": "cat(var_dic_list()) "
    }
   },
   "types_to_exclude": [
    "module",
    "function",
    "builtin_function_or_method",
    "instance",
    "_Feature"
   ],
   "window_display": false
  }
 },
 "nbformat": 4,
 "nbformat_minor": 5
}
