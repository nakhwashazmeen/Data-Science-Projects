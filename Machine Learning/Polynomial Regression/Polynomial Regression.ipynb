{
 "cells": [
  {
   "cell_type": "code",
   "execution_count": 36,
   "id": "5e66bb4e",
   "metadata": {},
   "outputs": [],
   "source": [
    "#Importing necessary libraries"
   ]
  },
  {
   "cell_type": "code",
   "execution_count": 91,
   "id": "14f32c8b",
   "metadata": {},
   "outputs": [],
   "source": [
    "import numpy as np\n",
    "import pandas as pd\n",
    "from sklearn.preprocessing import PolynomialFeatures\n",
    "from sklearn.linear_model import LinearRegression\n",
    "from sklearn.metrics import r2_score"
   ]
  },
  {
   "cell_type": "code",
   "execution_count": 63,
   "id": "c1e69294",
   "metadata": {},
   "outputs": [],
   "source": [
    "df = pd.read_excel('Tata memorial raw data.xlsx')"
   ]
  },
  {
   "cell_type": "code",
   "execution_count": 64,
   "id": "fe5971cd",
   "metadata": {},
   "outputs": [
    {
     "data": {
      "text/html": [
       "<div>\n",
       "<style scoped>\n",
       "    .dataframe tbody tr th:only-of-type {\n",
       "        vertical-align: middle;\n",
       "    }\n",
       "\n",
       "    .dataframe tbody tr th {\n",
       "        vertical-align: top;\n",
       "    }\n",
       "\n",
       "    .dataframe thead th {\n",
       "        text-align: right;\n",
       "    }\n",
       "</style>\n",
       "<table border=\"1\" class=\"dataframe\">\n",
       "  <thead>\n",
       "    <tr style=\"text-align: right;\">\n",
       "      <th></th>\n",
       "      <th>Fish Test Report</th>\n",
       "      <th>Herceptin</th>\n",
       "      <th>Doxorubicin</th>\n",
       "      <th>Ixabepilone</th>\n",
       "    </tr>\n",
       "  </thead>\n",
       "  <tbody>\n",
       "    <tr>\n",
       "      <th>0</th>\n",
       "      <td>1.23</td>\n",
       "      <td>28.606005</td>\n",
       "      <td>2.302585</td>\n",
       "      <td>0.586395</td>\n",
       "    </tr>\n",
       "    <tr>\n",
       "      <th>1</th>\n",
       "      <td>2.58</td>\n",
       "      <td>31.784450</td>\n",
       "      <td>2.995732</td>\n",
       "      <td>1.733437</td>\n",
       "    </tr>\n",
       "    <tr>\n",
       "      <th>2</th>\n",
       "      <td>3.84</td>\n",
       "      <td>38.141340</td>\n",
       "      <td>3.401197</td>\n",
       "      <td>3.233684</td>\n",
       "    </tr>\n",
       "    <tr>\n",
       "      <th>3</th>\n",
       "      <td>4.56</td>\n",
       "      <td>50.855120</td>\n",
       "      <td>3.688879</td>\n",
       "      <td>3.654411</td>\n",
       "    </tr>\n",
       "    <tr>\n",
       "      <th>4</th>\n",
       "      <td>5.69</td>\n",
       "      <td>69.925790</td>\n",
       "      <td>3.912023</td>\n",
       "      <td>4.920380</td>\n",
       "    </tr>\n",
       "  </tbody>\n",
       "</table>\n",
       "</div>"
      ],
      "text/plain": [
       "   Fish Test Report   Herceptin  Doxorubicin  Ixabepilone\n",
       "0               1.23  28.606005     2.302585     0.586395\n",
       "1               2.58  31.784450     2.995732     1.733437\n",
       "2               3.84  38.141340     3.401197     3.233684\n",
       "3               4.56  50.855120     3.688879     3.654411\n",
       "4               5.69  69.925790     3.912023     4.920380"
      ]
     },
     "execution_count": 64,
     "metadata": {},
     "output_type": "execute_result"
    }
   ],
   "source": [
    "df.head()"
   ]
  },
  {
   "cell_type": "code",
   "execution_count": 65,
   "id": "ac21be00",
   "metadata": {},
   "outputs": [],
   "source": [
    "#Seperating the data as per the use case"
   ]
  },
  {
   "cell_type": "code",
   "execution_count": 66,
   "id": "67a15e19",
   "metadata": {},
   "outputs": [],
   "source": [
    "df_herceptin = df[['Fish Test Report ','Herceptin']]\n",
    "df_doxorubicin = df[['Fish Test Report ','Doxorubicin']]\n",
    "df_ixabepilone = df[['Fish Test Report ','Ixabepilone']]"
   ]
  },
  {
   "cell_type": "code",
   "execution_count": 67,
   "id": "430d0be4",
   "metadata": {},
   "outputs": [],
   "source": [
    "#Working on Herceptin"
   ]
  },
  {
   "cell_type": "code",
   "execution_count": 68,
   "id": "29fe0915",
   "metadata": {},
   "outputs": [
    {
     "data": {
      "text/html": [
       "<div>\n",
       "<style scoped>\n",
       "    .dataframe tbody tr th:only-of-type {\n",
       "        vertical-align: middle;\n",
       "    }\n",
       "\n",
       "    .dataframe tbody tr th {\n",
       "        vertical-align: top;\n",
       "    }\n",
       "\n",
       "    .dataframe thead th {\n",
       "        text-align: right;\n",
       "    }\n",
       "</style>\n",
       "<table border=\"1\" class=\"dataframe\">\n",
       "  <thead>\n",
       "    <tr style=\"text-align: right;\">\n",
       "      <th></th>\n",
       "      <th>Fish Test Report</th>\n",
       "      <th>Herceptin</th>\n",
       "    </tr>\n",
       "  </thead>\n",
       "  <tbody>\n",
       "    <tr>\n",
       "      <th>0</th>\n",
       "      <td>1.23</td>\n",
       "      <td>28.606005</td>\n",
       "    </tr>\n",
       "    <tr>\n",
       "      <th>1</th>\n",
       "      <td>2.58</td>\n",
       "      <td>31.784450</td>\n",
       "    </tr>\n",
       "    <tr>\n",
       "      <th>2</th>\n",
       "      <td>3.84</td>\n",
       "      <td>38.141340</td>\n",
       "    </tr>\n",
       "    <tr>\n",
       "      <th>3</th>\n",
       "      <td>4.56</td>\n",
       "      <td>50.855120</td>\n",
       "    </tr>\n",
       "    <tr>\n",
       "      <th>4</th>\n",
       "      <td>5.69</td>\n",
       "      <td>69.925790</td>\n",
       "    </tr>\n",
       "    <tr>\n",
       "      <th>5</th>\n",
       "      <td>6.58</td>\n",
       "      <td>95.353350</td>\n",
       "    </tr>\n",
       "    <tr>\n",
       "      <th>6</th>\n",
       "      <td>7.47</td>\n",
       "      <td>127.137800</td>\n",
       "    </tr>\n",
       "    <tr>\n",
       "      <th>7</th>\n",
       "      <td>8.51</td>\n",
       "      <td>190.706700</td>\n",
       "    </tr>\n",
       "    <tr>\n",
       "      <th>8</th>\n",
       "      <td>9.66</td>\n",
       "      <td>317.844500</td>\n",
       "    </tr>\n",
       "    <tr>\n",
       "      <th>9</th>\n",
       "      <td>10.25</td>\n",
       "      <td>635.689000</td>\n",
       "    </tr>\n",
       "  </tbody>\n",
       "</table>\n",
       "</div>"
      ],
      "text/plain": [
       "   Fish Test Report    Herceptin\n",
       "0               1.23   28.606005\n",
       "1               2.58   31.784450\n",
       "2               3.84   38.141340\n",
       "3               4.56   50.855120\n",
       "4               5.69   69.925790\n",
       "5               6.58   95.353350\n",
       "6               7.47  127.137800\n",
       "7               8.51  190.706700\n",
       "8               9.66  317.844500\n",
       "9              10.25  635.689000"
      ]
     },
     "execution_count": 68,
     "metadata": {},
     "output_type": "execute_result"
    }
   ],
   "source": [
    "df_herceptin"
   ]
  },
  {
   "cell_type": "code",
   "execution_count": 69,
   "id": "c9398b84",
   "metadata": {},
   "outputs": [],
   "source": [
    "# Splitting x and y"
   ]
  },
  {
   "cell_type": "code",
   "execution_count": 70,
   "id": "2660ab38",
   "metadata": {},
   "outputs": [],
   "source": [
    "x = df[['Fish Test Report ']]\n",
    "y = df[['Herceptin']]"
   ]
  },
  {
   "cell_type": "code",
   "execution_count": 71,
   "id": "3bae2a8b",
   "metadata": {},
   "outputs": [],
   "source": [
    "# Polynomial Transformation"
   ]
  },
  {
   "cell_type": "code",
   "execution_count": 72,
   "id": "750fb4b6",
   "metadata": {},
   "outputs": [],
   "source": [
    "poly = PolynomialFeatures(degree = 3)"
   ]
  },
  {
   "cell_type": "code",
   "execution_count": 73,
   "id": "ed819473",
   "metadata": {},
   "outputs": [],
   "source": [
    "x = poly.fit_transform(x)"
   ]
  },
  {
   "cell_type": "code",
   "execution_count": 74,
   "id": "203b70d7",
   "metadata": {},
   "outputs": [
    {
     "data": {
      "text/plain": [
       "array([[1.00000000e+00, 1.23000000e+00, 1.51290000e+00, 1.86086700e+00],\n",
       "       [1.00000000e+00, 2.58000000e+00, 6.65640000e+00, 1.71735120e+01],\n",
       "       [1.00000000e+00, 3.84000000e+00, 1.47456000e+01, 5.66231040e+01],\n",
       "       [1.00000000e+00, 4.56000000e+00, 2.07936000e+01, 9.48188160e+01],\n",
       "       [1.00000000e+00, 5.69000000e+00, 3.23761000e+01, 1.84220009e+02],\n",
       "       [1.00000000e+00, 6.58000000e+00, 4.32964000e+01, 2.84890312e+02],\n",
       "       [1.00000000e+00, 7.47000000e+00, 5.58009000e+01, 4.16832723e+02],\n",
       "       [1.00000000e+00, 8.51000000e+00, 7.24201000e+01, 6.16295051e+02],\n",
       "       [1.00000000e+00, 9.66000000e+00, 9.33156000e+01, 9.01428696e+02],\n",
       "       [1.00000000e+00, 1.02500000e+01, 1.05062500e+02, 1.07689062e+03]])"
      ]
     },
     "execution_count": 74,
     "metadata": {},
     "output_type": "execute_result"
    }
   ],
   "source": [
    "x"
   ]
  },
  {
   "cell_type": "code",
   "execution_count": 75,
   "id": "9aaac1fa",
   "metadata": {},
   "outputs": [],
   "source": [
    "lr = LinearRegression()"
   ]
  },
  {
   "cell_type": "code",
   "execution_count": 76,
   "id": "8704d07e",
   "metadata": {},
   "outputs": [
    {
     "data": {
      "text/plain": [
       "LinearRegression()"
      ]
     },
     "execution_count": 76,
     "metadata": {},
     "output_type": "execute_result"
    }
   ],
   "source": [
    "lr.fit(x,y)"
   ]
  },
  {
   "cell_type": "code",
   "execution_count": 77,
   "id": "50feee03",
   "metadata": {},
   "outputs": [],
   "source": [
    "y_pred = lr.predict(x)"
   ]
  },
  {
   "cell_type": "code",
   "execution_count": 78,
   "id": "b7d9fb2b",
   "metadata": {},
   "outputs": [
    {
     "data": {
      "text/plain": [
       "0.9421459534814112"
      ]
     },
     "execution_count": 78,
     "metadata": {},
     "output_type": "execute_result"
    }
   ],
   "source": [
    "lr.score(x,y)"
   ]
  },
  {
   "cell_type": "code",
   "execution_count": 79,
   "id": "99602cf4",
   "metadata": {},
   "outputs": [],
   "source": [
    "r2_score = r2_score(y,y_pred)"
   ]
  },
  {
   "cell_type": "code",
   "execution_count": 80,
   "id": "67447b8d",
   "metadata": {},
   "outputs": [
    {
     "data": {
      "text/plain": [
       "0.9421459534814112"
      ]
     },
     "execution_count": 80,
     "metadata": {},
     "output_type": "execute_result"
    }
   ],
   "source": [
    "r2_score"
   ]
  },
  {
   "cell_type": "code",
   "execution_count": 81,
   "id": "913924d1",
   "metadata": {},
   "outputs": [
    {
     "data": {
      "text/html": [
       "<div>\n",
       "<style scoped>\n",
       "    .dataframe tbody tr th:only-of-type {\n",
       "        vertical-align: middle;\n",
       "    }\n",
       "\n",
       "    .dataframe tbody tr th {\n",
       "        vertical-align: top;\n",
       "    }\n",
       "\n",
       "    .dataframe thead th {\n",
       "        text-align: right;\n",
       "    }\n",
       "</style>\n",
       "<table border=\"1\" class=\"dataframe\">\n",
       "  <thead>\n",
       "    <tr style=\"text-align: right;\">\n",
       "      <th></th>\n",
       "      <th>Fish Test Report</th>\n",
       "      <th>Doxorubicin</th>\n",
       "    </tr>\n",
       "  </thead>\n",
       "  <tbody>\n",
       "    <tr>\n",
       "      <th>0</th>\n",
       "      <td>1.23</td>\n",
       "      <td>2.302585</td>\n",
       "    </tr>\n",
       "    <tr>\n",
       "      <th>1</th>\n",
       "      <td>2.58</td>\n",
       "      <td>2.995732</td>\n",
       "    </tr>\n",
       "    <tr>\n",
       "      <th>2</th>\n",
       "      <td>3.84</td>\n",
       "      <td>3.401197</td>\n",
       "    </tr>\n",
       "    <tr>\n",
       "      <th>3</th>\n",
       "      <td>4.56</td>\n",
       "      <td>3.688879</td>\n",
       "    </tr>\n",
       "    <tr>\n",
       "      <th>4</th>\n",
       "      <td>5.69</td>\n",
       "      <td>3.912023</td>\n",
       "    </tr>\n",
       "    <tr>\n",
       "      <th>5</th>\n",
       "      <td>6.58</td>\n",
       "      <td>4.094345</td>\n",
       "    </tr>\n",
       "    <tr>\n",
       "      <th>6</th>\n",
       "      <td>7.47</td>\n",
       "      <td>4.248495</td>\n",
       "    </tr>\n",
       "    <tr>\n",
       "      <th>7</th>\n",
       "      <td>8.51</td>\n",
       "      <td>4.382027</td>\n",
       "    </tr>\n",
       "    <tr>\n",
       "      <th>8</th>\n",
       "      <td>9.66</td>\n",
       "      <td>4.499810</td>\n",
       "    </tr>\n",
       "    <tr>\n",
       "      <th>9</th>\n",
       "      <td>10.25</td>\n",
       "      <td>4.605170</td>\n",
       "    </tr>\n",
       "  </tbody>\n",
       "</table>\n",
       "</div>"
      ],
      "text/plain": [
       "   Fish Test Report   Doxorubicin\n",
       "0               1.23     2.302585\n",
       "1               2.58     2.995732\n",
       "2               3.84     3.401197\n",
       "3               4.56     3.688879\n",
       "4               5.69     3.912023\n",
       "5               6.58     4.094345\n",
       "6               7.47     4.248495\n",
       "7               8.51     4.382027\n",
       "8               9.66     4.499810\n",
       "9              10.25     4.605170"
      ]
     },
     "execution_count": 81,
     "metadata": {},
     "output_type": "execute_result"
    }
   ],
   "source": [
    "df_doxorubicin"
   ]
  },
  {
   "cell_type": "code",
   "execution_count": 82,
   "id": "ddad08fd",
   "metadata": {},
   "outputs": [],
   "source": [
    "x = df[['Fish Test Report ']]\n",
    "y = df[['Doxorubicin']]"
   ]
  },
  {
   "cell_type": "code",
   "execution_count": 83,
   "id": "8afaea27",
   "metadata": {},
   "outputs": [
    {
     "data": {
      "text/plain": [
       "array([[1.00000000e+00, 1.23000000e+00, 1.51290000e+00, 1.86086700e+00],\n",
       "       [1.00000000e+00, 2.58000000e+00, 6.65640000e+00, 1.71735120e+01],\n",
       "       [1.00000000e+00, 3.84000000e+00, 1.47456000e+01, 5.66231040e+01],\n",
       "       [1.00000000e+00, 4.56000000e+00, 2.07936000e+01, 9.48188160e+01],\n",
       "       [1.00000000e+00, 5.69000000e+00, 3.23761000e+01, 1.84220009e+02],\n",
       "       [1.00000000e+00, 6.58000000e+00, 4.32964000e+01, 2.84890312e+02],\n",
       "       [1.00000000e+00, 7.47000000e+00, 5.58009000e+01, 4.16832723e+02],\n",
       "       [1.00000000e+00, 8.51000000e+00, 7.24201000e+01, 6.16295051e+02],\n",
       "       [1.00000000e+00, 9.66000000e+00, 9.33156000e+01, 9.01428696e+02],\n",
       "       [1.00000000e+00, 1.02500000e+01, 1.05062500e+02, 1.07689062e+03]])"
      ]
     },
     "execution_count": 83,
     "metadata": {},
     "output_type": "execute_result"
    }
   ],
   "source": [
    "poly.fit_transform(x)"
   ]
  },
  {
   "cell_type": "code",
   "execution_count": 84,
   "id": "d713be46",
   "metadata": {},
   "outputs": [
    {
     "data": {
      "text/plain": [
       "LinearRegression()"
      ]
     },
     "execution_count": 84,
     "metadata": {},
     "output_type": "execute_result"
    }
   ],
   "source": [
    "lr.fit(x,y)"
   ]
  },
  {
   "cell_type": "code",
   "execution_count": 85,
   "id": "3b54d715",
   "metadata": {},
   "outputs": [],
   "source": [
    "y_pred = lr.predict(x)"
   ]
  },
  {
   "cell_type": "code",
   "execution_count": 92,
   "id": "37a9401b",
   "metadata": {},
   "outputs": [
    {
     "data": {
      "text/plain": [
       "0.9300996828286513"
      ]
     },
     "execution_count": 92,
     "metadata": {},
     "output_type": "execute_result"
    }
   ],
   "source": [
    "r2_scoree = r2_score(y,y_pred)\n",
    "r2_scoree"
   ]
  },
  {
   "cell_type": "code",
   "execution_count": null,
   "id": "65926a82",
   "metadata": {},
   "outputs": [],
   "source": []
  }
 ],
 "metadata": {
  "kernelspec": {
   "display_name": "Python 3 (ipykernel)",
   "language": "python",
   "name": "python3"
  },
  "language_info": {
   "codemirror_mode": {
    "name": "ipython",
    "version": 3
   },
   "file_extension": ".py",
   "mimetype": "text/x-python",
   "name": "python",
   "nbconvert_exporter": "python",
   "pygments_lexer": "ipython3",
   "version": "3.9.7"
  }
 },
 "nbformat": 4,
 "nbformat_minor": 5
}
