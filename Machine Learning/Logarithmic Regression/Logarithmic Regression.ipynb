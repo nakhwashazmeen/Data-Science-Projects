{
 "cells": [
  {
   "cell_type": "code",
   "execution_count": 133,
   "id": "ac737cb8",
   "metadata": {},
   "outputs": [],
   "source": [
    "import numpy as np\n",
    "import pandas as pd\n",
    "from sklearn.linear_model import LinearRegression\n",
    "import seaborn as sns\n",
    "from sklearn.metrics import r2_score"
   ]
  },
  {
   "cell_type": "code",
   "execution_count": 110,
   "id": "a252b69b",
   "metadata": {},
   "outputs": [],
   "source": [
    "df = pd.read_excel('Myntra Data raw.xlsx')"
   ]
  },
  {
   "cell_type": "code",
   "execution_count": 111,
   "id": "5ebfe8fe",
   "metadata": {},
   "outputs": [
    {
     "data": {
      "text/html": [
       "<div>\n",
       "<style scoped>\n",
       "    .dataframe tbody tr th:only-of-type {\n",
       "        vertical-align: middle;\n",
       "    }\n",
       "\n",
       "    .dataframe tbody tr th {\n",
       "        vertical-align: top;\n",
       "    }\n",
       "\n",
       "    .dataframe thead th {\n",
       "        text-align: right;\n",
       "    }\n",
       "</style>\n",
       "<table border=\"1\" class=\"dataframe\">\n",
       "  <thead>\n",
       "    <tr style=\"text-align: right;\">\n",
       "      <th></th>\n",
       "      <th>Time (Mins)</th>\n",
       "      <th>Recall Rate</th>\n",
       "    </tr>\n",
       "  </thead>\n",
       "  <tbody>\n",
       "    <tr>\n",
       "      <th>0</th>\n",
       "      <td>1</td>\n",
       "      <td>0.84</td>\n",
       "    </tr>\n",
       "    <tr>\n",
       "      <th>1</th>\n",
       "      <td>5</td>\n",
       "      <td>0.71</td>\n",
       "    </tr>\n",
       "    <tr>\n",
       "      <th>2</th>\n",
       "      <td>15</td>\n",
       "      <td>0.61</td>\n",
       "    </tr>\n",
       "    <tr>\n",
       "      <th>3</th>\n",
       "      <td>30</td>\n",
       "      <td>0.56</td>\n",
       "    </tr>\n",
       "    <tr>\n",
       "      <th>4</th>\n",
       "      <td>60</td>\n",
       "      <td>0.54</td>\n",
       "    </tr>\n",
       "  </tbody>\n",
       "</table>\n",
       "</div>"
      ],
      "text/plain": [
       "   Time (Mins)  Recall Rate\n",
       "0            1         0.84\n",
       "1            5         0.71\n",
       "2           15         0.61\n",
       "3           30         0.56\n",
       "4           60         0.54"
      ]
     },
     "execution_count": 111,
     "metadata": {},
     "output_type": "execute_result"
    }
   ],
   "source": [
    "df.head()"
   ]
  },
  {
   "cell_type": "code",
   "execution_count": 112,
   "id": "cff7a781",
   "metadata": {},
   "outputs": [
    {
     "data": {
      "text/html": [
       "<div>\n",
       "<style scoped>\n",
       "    .dataframe tbody tr th:only-of-type {\n",
       "        vertical-align: middle;\n",
       "    }\n",
       "\n",
       "    .dataframe tbody tr th {\n",
       "        vertical-align: top;\n",
       "    }\n",
       "\n",
       "    .dataframe thead th {\n",
       "        text-align: right;\n",
       "    }\n",
       "</style>\n",
       "<table border=\"1\" class=\"dataframe\">\n",
       "  <thead>\n",
       "    <tr style=\"text-align: right;\">\n",
       "      <th></th>\n",
       "      <th>Time (Mins)</th>\n",
       "      <th>Recall Rate</th>\n",
       "    </tr>\n",
       "  </thead>\n",
       "  <tbody>\n",
       "    <tr>\n",
       "      <th>count</th>\n",
       "      <td>13.000000</td>\n",
       "      <td>13.000000</td>\n",
       "    </tr>\n",
       "    <tr>\n",
       "      <th>mean</th>\n",
       "      <td>1679.307692</td>\n",
       "      <td>0.432308</td>\n",
       "    </tr>\n",
       "    <tr>\n",
       "      <th>std</th>\n",
       "      <td>3018.230508</td>\n",
       "      <td>0.222567</td>\n",
       "    </tr>\n",
       "    <tr>\n",
       "      <th>min</th>\n",
       "      <td>1.000000</td>\n",
       "      <td>0.080000</td>\n",
       "    </tr>\n",
       "    <tr>\n",
       "      <th>25%</th>\n",
       "      <td>30.000000</td>\n",
       "      <td>0.260000</td>\n",
       "    </tr>\n",
       "    <tr>\n",
       "      <th>50%</th>\n",
       "      <td>240.000000</td>\n",
       "      <td>0.450000</td>\n",
       "    </tr>\n",
       "    <tr>\n",
       "      <th>75%</th>\n",
       "      <td>1440.000000</td>\n",
       "      <td>0.560000</td>\n",
       "    </tr>\n",
       "    <tr>\n",
       "      <th>max</th>\n",
       "      <td>10080.000000</td>\n",
       "      <td>0.840000</td>\n",
       "    </tr>\n",
       "  </tbody>\n",
       "</table>\n",
       "</div>"
      ],
      "text/plain": [
       "        Time (Mins)  Recall Rate\n",
       "count     13.000000    13.000000\n",
       "mean    1679.307692     0.432308\n",
       "std     3018.230508     0.222567\n",
       "min        1.000000     0.080000\n",
       "25%       30.000000     0.260000\n",
       "50%      240.000000     0.450000\n",
       "75%     1440.000000     0.560000\n",
       "max    10080.000000     0.840000"
      ]
     },
     "execution_count": 112,
     "metadata": {},
     "output_type": "execute_result"
    }
   ],
   "source": [
    "df.describe()"
   ]
  },
  {
   "cell_type": "code",
   "execution_count": 113,
   "id": "3307017a",
   "metadata": {},
   "outputs": [
    {
     "data": {
      "text/plain": [
       "Time (Mins)    2.257935\n",
       "Recall Rate    0.143672\n",
       "dtype: float64"
      ]
     },
     "execution_count": 113,
     "metadata": {},
     "output_type": "execute_result"
    }
   ],
   "source": [
    "df.skew()"
   ]
  },
  {
   "cell_type": "code",
   "execution_count": 114,
   "id": "79810baa",
   "metadata": {},
   "outputs": [],
   "source": [
    "x1 = df[['Time (Mins)']]\n",
    "y = df['Recall Rate']"
   ]
  },
  {
   "cell_type": "code",
   "execution_count": 115,
   "id": "b829b7f8",
   "metadata": {},
   "outputs": [],
   "source": [
    "model1 = lr.fit(x1, y)"
   ]
  },
  {
   "cell_type": "code",
   "execution_count": 116,
   "id": "51dc61e9",
   "metadata": {},
   "outputs": [],
   "source": [
    "y_pred1 = lr.predict(x1)"
   ]
  },
  {
   "cell_type": "code",
   "execution_count": 117,
   "id": "9901e062",
   "metadata": {},
   "outputs": [],
   "source": [
    "r2_score1 = r2_score(y_pred1, y)"
   ]
  },
  {
   "cell_type": "code",
   "execution_count": 118,
   "id": "429dd491",
   "metadata": {},
   "outputs": [
    {
     "data": {
      "text/plain": [
       "0.2482522497770182"
      ]
     },
     "execution_count": 118,
     "metadata": {},
     "output_type": "execute_result"
    }
   ],
   "source": [
    "r2_score1"
   ]
  },
  {
   "cell_type": "code",
   "execution_count": 119,
   "id": "8677736e",
   "metadata": {},
   "outputs": [],
   "source": [
    "log = np.log(df['Time (Mins)'])"
   ]
  },
  {
   "cell_type": "code",
   "execution_count": 120,
   "id": "080ebe99",
   "metadata": {},
   "outputs": [],
   "source": [
    "df['log (Time)'] = log"
   ]
  },
  {
   "cell_type": "code",
   "execution_count": 121,
   "id": "2cc1a196",
   "metadata": {},
   "outputs": [
    {
     "data": {
      "text/html": [
       "<div>\n",
       "<style scoped>\n",
       "    .dataframe tbody tr th:only-of-type {\n",
       "        vertical-align: middle;\n",
       "    }\n",
       "\n",
       "    .dataframe tbody tr th {\n",
       "        vertical-align: top;\n",
       "    }\n",
       "\n",
       "    .dataframe thead th {\n",
       "        text-align: right;\n",
       "    }\n",
       "</style>\n",
       "<table border=\"1\" class=\"dataframe\">\n",
       "  <thead>\n",
       "    <tr style=\"text-align: right;\">\n",
       "      <th></th>\n",
       "      <th>Time (Mins)</th>\n",
       "      <th>Recall Rate</th>\n",
       "      <th>log (Time)</th>\n",
       "    </tr>\n",
       "  </thead>\n",
       "  <tbody>\n",
       "    <tr>\n",
       "      <th>0</th>\n",
       "      <td>1</td>\n",
       "      <td>0.84</td>\n",
       "      <td>0.000000</td>\n",
       "    </tr>\n",
       "    <tr>\n",
       "      <th>1</th>\n",
       "      <td>5</td>\n",
       "      <td>0.71</td>\n",
       "      <td>1.609438</td>\n",
       "    </tr>\n",
       "    <tr>\n",
       "      <th>2</th>\n",
       "      <td>15</td>\n",
       "      <td>0.61</td>\n",
       "      <td>2.708050</td>\n",
       "    </tr>\n",
       "    <tr>\n",
       "      <th>3</th>\n",
       "      <td>30</td>\n",
       "      <td>0.56</td>\n",
       "      <td>3.401197</td>\n",
       "    </tr>\n",
       "    <tr>\n",
       "      <th>4</th>\n",
       "      <td>60</td>\n",
       "      <td>0.54</td>\n",
       "      <td>4.094345</td>\n",
       "    </tr>\n",
       "  </tbody>\n",
       "</table>\n",
       "</div>"
      ],
      "text/plain": [
       "   Time (Mins)  Recall Rate  log (Time)\n",
       "0            1         0.84    0.000000\n",
       "1            5         0.71    1.609438\n",
       "2           15         0.61    2.708050\n",
       "3           30         0.56    3.401197\n",
       "4           60         0.54    4.094345"
      ]
     },
     "execution_count": 121,
     "metadata": {},
     "output_type": "execute_result"
    }
   ],
   "source": [
    "df.head()"
   ]
  },
  {
   "cell_type": "code",
   "execution_count": 122,
   "id": "bc6708cc",
   "metadata": {},
   "outputs": [],
   "source": [
    "x = df[['log (Time)']]\n",
    "y = df['Recall Rate']"
   ]
  },
  {
   "cell_type": "code",
   "execution_count": 123,
   "id": "c5894847",
   "metadata": {},
   "outputs": [],
   "source": [
    "lr = LinearRegression()"
   ]
  },
  {
   "cell_type": "code",
   "execution_count": 124,
   "id": "73b80e78",
   "metadata": {},
   "outputs": [],
   "source": [
    "model = lr.fit(x, y)"
   ]
  },
  {
   "cell_type": "code",
   "execution_count": 125,
   "id": "e793a310",
   "metadata": {},
   "outputs": [
    {
     "data": {
      "text/plain": [
       "array([0.84641541, 0.71890463, 0.63186498, 0.57694907, 0.52203316,\n",
       "       0.46711726, 0.41220135, 0.35728544, 0.3251617 , 0.27024579,\n",
       "       0.21532988, 0.16041398, 0.11607735])"
      ]
     },
     "execution_count": 125,
     "metadata": {},
     "output_type": "execute_result"
    }
   ],
   "source": [
    "y_pred = lr.predict(x)\n",
    "y_pred"
   ]
  },
  {
   "cell_type": "code",
   "execution_count": 126,
   "id": "f1acf22f",
   "metadata": {},
   "outputs": [
    {
     "data": {
      "text/plain": [
       "array([0.84, 0.71, 0.61, 0.56, 0.54, 0.47, 0.45, 0.38, 0.36, 0.26, 0.2 ,\n",
       "       0.16, 0.08])"
      ]
     },
     "execution_count": 126,
     "metadata": {},
     "output_type": "execute_result"
    }
   ],
   "source": [
    "np.array(y)"
   ]
  },
  {
   "cell_type": "code",
   "execution_count": 127,
   "id": "4df3f10e",
   "metadata": {},
   "outputs": [],
   "source": [
    "r2_score = r2_score(y_pred, y)"
   ]
  },
  {
   "cell_type": "code",
   "execution_count": 128,
   "id": "bf64973f",
   "metadata": {},
   "outputs": [
    {
     "data": {
      "text/plain": [
       "0.9897741338021155"
      ]
     },
     "execution_count": 128,
     "metadata": {},
     "output_type": "execute_result"
    }
   ],
   "source": [
    "r2_score"
   ]
  },
  {
   "cell_type": "code",
   "execution_count": 129,
   "id": "6fdcd982",
   "metadata": {},
   "outputs": [
    {
     "name": "stderr",
     "output_type": "stream",
     "text": [
      "C:\\Users\\Acer\\anaconda3\\lib\\site-packages\\seaborn\\_decorators.py:36: FutureWarning: Pass the following variables as keyword args: x, y. From version 0.12, the only valid positional argument will be `data`, and passing other arguments without an explicit keyword will result in an error or misinterpretation.\n",
      "  warnings.warn(\n"
     ]
    },
    {
     "data": {
      "text/plain": [
       "<AxesSubplot:xlabel='log (Time)', ylabel='Recall Rate'>"
      ]
     },
     "execution_count": 129,
     "metadata": {},
     "output_type": "execute_result"
    },
    {
     "data": {
      "image/png": "[encoded data removed]",
      "text/plain": [
       "<Figure size 432x288 with 1 Axes>"
      ]
     },
     "metadata": {
      "needs_background": "light"
     },
     "output_type": "display_data"
    }
   ],
   "source": [
    "sns.regplot(x, y, data = df)"
   ]
  },
  {
   "cell_type": "code",
   "execution_count": 130,
   "id": "d5e21460",
   "metadata": {},
   "outputs": [
    {
     "name": "stdout",
     "output_type": "stream",
     "text": [
      "The Coefficient for our model is [-0.07922691]\n",
      "The intercept for our model is 0.846415414211753\n"
     ]
    }
   ],
   "source": [
    "print(\"The Coefficient for our model is {}\".format(model.coef_))\n",
    "print(\"The intercept for our model is {}\".format(model.intercept_))"
   ]
  },
  {
   "cell_type": "code",
   "execution_count": 131,
   "id": "7fb381b1",
   "metadata": {},
   "outputs": [
    {
     "data": {
      "text/plain": [
       "4.3724463595986895"
      ]
     },
     "execution_count": 131,
     "metadata": {},
     "output_type": "execute_result"
    }
   ],
   "source": [
    "(0.50 - 0.846415414211753)/(-0.07922691)"
   ]
  },
  {
   "cell_type": "code",
   "execution_count": 80,
   "id": "91c5a48f",
   "metadata": {},
   "outputs": [],
   "source": [
    "def time(y):\n",
    "    y = y/100\n",
    "    x = (y-model.intercept_)/(model.coef_)\n",
    "    mins = np.exp(x)\n",
    "    return mins"
   ]
  },
  {
   "cell_type": "code",
   "execution_count": 135,
   "id": "cc9fd939",
   "metadata": {},
   "outputs": [
    {
     "data": {
      "text/plain": [
       "array([79.23725533])"
      ]
     },
     "execution_count": 135,
     "metadata": {},
     "output_type": "execute_result"
    }
   ],
   "source": [
    "time(50)"
   ]
  },
  {
   "cell_type": "code",
   "execution_count": null,
   "id": "4817f6ef",
   "metadata": {},
   "outputs": [],
   "source": []
  }
 ],
 "metadata": {
  "kernelspec": {
   "display_name": "Python 3 (ipykernel)",
   "language": "python",
   "name": "python3"
  },
  "language_info": {
   "codemirror_mode": {
    "name": "ipython",
    "version": 3
   },
   "file_extension": ".py",
   "mimetype": "text/x-python",
   "name": "python",
   "nbconvert_exporter": "python",
   "pygments_lexer": "ipython3",
   "version": "3.9.7"
  }
 },
 "nbformat": 4,
 "nbformat_minor": 5
}
