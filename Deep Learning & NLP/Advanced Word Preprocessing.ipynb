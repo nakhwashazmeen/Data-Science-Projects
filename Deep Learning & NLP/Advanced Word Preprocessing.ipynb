{
 "cells": [
  {
   "cell_type": "code",
   "execution_count": 36,
   "id": "b1c88483",
   "metadata": {
    "ExecuteTime": {
     "end_time": "2022-07-12T15:50:43.375217Z",
     "start_time": "2022-07-12T15:50:39.219345Z"
    }
   },
   "outputs": [
    {
     "name": "stderr",
     "output_type": "stream",
     "text": [
      "[nltk_data] Downloading package wordnet to\n",
      "[nltk_data]     C:\\Users\\palla\\AppData\\Roaming\\nltk_data...\n"
     ]
    },
    {
     "data": {
      "text/plain": [
       "True"
      ]
     },
     "execution_count": 36,
     "metadata": {},
     "output_type": "execute_result"
    }
   ],
   "source": [
    "import pandas as pd\n",
    "import numpy as np\n",
    "import tensorflow as tf\n",
    "\n",
    "from tensorflow.keras.preprocessing.text import Tokenizer\n",
    "from tensorflow.keras.preprocessing.sequence import pad_sequences\n",
    "\n",
    "import nltk\n",
    "from nltk.stem import PorterStemmer, WordNetLemmatizer\n",
    "nltk.download('wordnet')"
   ]
  },
  {
   "cell_type": "code",
   "execution_count": 2,
   "id": "4656764e",
   "metadata": {
    "ExecuteTime": {
     "end_time": "2022-07-12T14:57:00.889067Z",
     "start_time": "2022-07-12T14:57:00.874073Z"
    }
   },
   "outputs": [],
   "source": [
    "doc = [\"How is your week going It is going good I am learning NLP on a Tuesday evening which is a part of Deep learning\"]"
   ]
  },
  {
   "cell_type": "code",
   "execution_count": 3,
   "id": "50aad14e",
   "metadata": {
    "ExecuteTime": {
     "end_time": "2022-07-12T14:57:25.162482Z",
     "start_time": "2022-07-12T14:57:25.147490Z"
    }
   },
   "outputs": [],
   "source": [
    "tok = Tokenizer() # Assigns a unique token value to each unique word in the sentence"
   ]
  },
  {
   "cell_type": "code",
   "execution_count": 4,
   "id": "cdb4f055",
   "metadata": {
    "ExecuteTime": {
     "end_time": "2022-07-12T14:57:45.984187Z",
     "start_time": "2022-07-12T14:57:45.978191Z"
    }
   },
   "outputs": [],
   "source": [
    "tok.fit_on_texts(doc)"
   ]
  },
  {
   "cell_type": "code",
   "execution_count": 5,
   "id": "238748ec",
   "metadata": {
    "ExecuteTime": {
     "end_time": "2022-07-12T14:57:59.559971Z",
     "start_time": "2022-07-12T14:57:59.539980Z"
    }
   },
   "outputs": [
    {
     "data": {
      "text/plain": [
       "{'is': 1,\n",
       " 'going': 2,\n",
       " 'learning': 3,\n",
       " 'a': 4,\n",
       " 'how': 5,\n",
       " 'your': 6,\n",
       " 'week': 7,\n",
       " 'it': 8,\n",
       " 'good': 9,\n",
       " 'i': 10,\n",
       " 'am': 11,\n",
       " 'nlp': 12,\n",
       " 'on': 13,\n",
       " 'tuesday': 14,\n",
       " 'evening': 15,\n",
       " 'which': 16,\n",
       " 'part': 17,\n",
       " 'of': 18,\n",
       " 'deep': 19}"
      ]
     },
     "execution_count": 5,
     "metadata": {},
     "output_type": "execute_result"
    }
   ],
   "source": [
    "tok.word_index"
   ]
  },
  {
   "cell_type": "code",
   "execution_count": 6,
   "id": "1deb7847",
   "metadata": {
    "ExecuteTime": {
     "end_time": "2022-07-12T15:03:46.706405Z",
     "start_time": "2022-07-12T15:03:46.701424Z"
    }
   },
   "outputs": [],
   "source": [
    "tok = Tokenizer(oov_token=\"<UNK>\") # Assigning a unique token to each unique word and assigning UNK to words which are not in training ; UNK - Unknown,oov - out of vocabulary"
   ]
  },
  {
   "cell_type": "code",
   "execution_count": 7,
   "id": "f08e6b58",
   "metadata": {
    "ExecuteTime": {
     "end_time": "2022-07-12T15:04:03.838724Z",
     "start_time": "2022-07-12T15:04:03.833747Z"
    }
   },
   "outputs": [],
   "source": [
    "tok.fit_on_texts(doc)"
   ]
  },
  {
   "cell_type": "code",
   "execution_count": 8,
   "id": "f5c5e006",
   "metadata": {
    "ExecuteTime": {
     "end_time": "2022-07-12T15:04:11.195773Z",
     "start_time": "2022-07-12T15:04:11.187774Z"
    }
   },
   "outputs": [
    {
     "data": {
      "text/plain": [
       "{'<UNK>': 1,\n",
       " 'is': 2,\n",
       " 'going': 3,\n",
       " 'learning': 4,\n",
       " 'a': 5,\n",
       " 'how': 6,\n",
       " 'your': 7,\n",
       " 'week': 8,\n",
       " 'it': 9,\n",
       " 'good': 10,\n",
       " 'i': 11,\n",
       " 'am': 12,\n",
       " 'nlp': 13,\n",
       " 'on': 14,\n",
       " 'tuesday': 15,\n",
       " 'evening': 16,\n",
       " 'which': 17,\n",
       " 'part': 18,\n",
       " 'of': 19,\n",
       " 'deep': 20}"
      ]
     },
     "execution_count": 8,
     "metadata": {},
     "output_type": "execute_result"
    }
   ],
   "source": [
    "tok.word_index"
   ]
  },
  {
   "cell_type": "code",
   "execution_count": 9,
   "id": "2b26a3e8",
   "metadata": {
    "ExecuteTime": {
     "end_time": "2022-07-12T15:06:30.805863Z",
     "start_time": "2022-07-12T15:06:30.799882Z"
    }
   },
   "outputs": [],
   "source": [
    "sequences = tok.texts_to_sequences(doc)"
   ]
  },
  {
   "cell_type": "code",
   "execution_count": 10,
   "id": "2f583e0d",
   "metadata": {
    "ExecuteTime": {
     "end_time": "2022-07-12T15:06:35.965983Z",
     "start_time": "2022-07-12T15:06:35.955990Z"
    }
   },
   "outputs": [
    {
     "data": {
      "text/plain": [
       "[[6,\n",
       "  2,\n",
       "  7,\n",
       "  8,\n",
       "  3,\n",
       "  9,\n",
       "  2,\n",
       "  3,\n",
       "  10,\n",
       "  11,\n",
       "  12,\n",
       "  4,\n",
       "  13,\n",
       "  14,\n",
       "  5,\n",
       "  15,\n",
       "  16,\n",
       "  17,\n",
       "  2,\n",
       "  5,\n",
       "  18,\n",
       "  19,\n",
       "  20,\n",
       "  4]]"
      ]
     },
     "execution_count": 10,
     "metadata": {},
     "output_type": "execute_result"
    }
   ],
   "source": [
    "sequences"
   ]
  },
  {
   "cell_type": "code",
   "execution_count": 11,
   "id": "8928dd26",
   "metadata": {
    "ExecuteTime": {
     "end_time": "2022-07-12T15:09:47.855736Z",
     "start_time": "2022-07-12T15:09:47.849738Z"
    }
   },
   "outputs": [],
   "source": [
    "test = [\"I am learning NLP\",\"It is a great day\",\"We are doing data cleaning today\",\"Deep learning is interesting\",\"Today is tuesday\",\"It is third day of the week\" ]"
   ]
  },
  {
   "cell_type": "code",
   "execution_count": 14,
   "id": "652edace",
   "metadata": {
    "ExecuteTime": {
     "end_time": "2022-07-12T15:19:19.613251Z",
     "start_time": "2022-07-12T15:19:19.607253Z"
    }
   },
   "outputs": [],
   "source": [
    "df = pd.DataFrame({\"raw_text\" : test})"
   ]
  },
  {
   "cell_type": "code",
   "execution_count": 15,
   "id": "30325716",
   "metadata": {
    "ExecuteTime": {
     "end_time": "2022-07-12T15:19:23.479001Z",
     "start_time": "2022-07-12T15:19:23.459012Z"
    }
   },
   "outputs": [
    {
     "data": {
      "text/html": [
       "<div>\n",
       "<style scoped>\n",
       "    .dataframe tbody tr th:only-of-type {\n",
       "        vertical-align: middle;\n",
       "    }\n",
       "\n",
       "    .dataframe tbody tr th {\n",
       "        vertical-align: top;\n",
       "    }\n",
       "\n",
       "    .dataframe thead th {\n",
       "        text-align: right;\n",
       "    }\n",
       "</style>\n",
       "<table border=\"1\" class=\"dataframe\">\n",
       "  <thead>\n",
       "    <tr style=\"text-align: right;\">\n",
       "      <th></th>\n",
       "      <th>raw_text</th>\n",
       "    </tr>\n",
       "  </thead>\n",
       "  <tbody>\n",
       "    <tr>\n",
       "      <th>0</th>\n",
       "      <td>I am learning NLP</td>\n",
       "    </tr>\n",
       "    <tr>\n",
       "      <th>1</th>\n",
       "      <td>It is a great day</td>\n",
       "    </tr>\n",
       "    <tr>\n",
       "      <th>2</th>\n",
       "      <td>We are doing data cleaning today</td>\n",
       "    </tr>\n",
       "    <tr>\n",
       "      <th>3</th>\n",
       "      <td>Deep learning is interesting</td>\n",
       "    </tr>\n",
       "    <tr>\n",
       "      <th>4</th>\n",
       "      <td>Today is tuesday</td>\n",
       "    </tr>\n",
       "    <tr>\n",
       "      <th>5</th>\n",
       "      <td>It is third day of the week</td>\n",
       "    </tr>\n",
       "  </tbody>\n",
       "</table>\n",
       "</div>"
      ],
      "text/plain": [
       "                           raw_text\n",
       "0                 I am learning NLP\n",
       "1                 It is a great day\n",
       "2  We are doing data cleaning today\n",
       "3      Deep learning is interesting\n",
       "4                  Today is tuesday\n",
       "5       It is third day of the week"
      ]
     },
     "execution_count": 15,
     "metadata": {},
     "output_type": "execute_result"
    }
   ],
   "source": [
    "df"
   ]
  },
  {
   "cell_type": "code",
   "execution_count": 18,
   "id": "0471b5dd",
   "metadata": {
    "ExecuteTime": {
     "end_time": "2022-07-12T15:21:56.836385Z",
     "start_time": "2022-07-12T15:21:56.782417Z"
    }
   },
   "outputs": [],
   "source": [
    "df[\"sequences\"] = df[\"raw_text\"].apply(lambda x: tok.texts_to_sequences([x]))"
   ]
  },
  {
   "cell_type": "code",
   "execution_count": 19,
   "id": "f871f91e",
   "metadata": {
    "ExecuteTime": {
     "end_time": "2022-07-12T15:21:59.008757Z",
     "start_time": "2022-07-12T15:21:58.968780Z"
    }
   },
   "outputs": [
    {
     "data": {
      "text/html": [
       "<div>\n",
       "<style scoped>\n",
       "    .dataframe tbody tr th:only-of-type {\n",
       "        vertical-align: middle;\n",
       "    }\n",
       "\n",
       "    .dataframe tbody tr th {\n",
       "        vertical-align: top;\n",
       "    }\n",
       "\n",
       "    .dataframe thead th {\n",
       "        text-align: right;\n",
       "    }\n",
       "</style>\n",
       "<table border=\"1\" class=\"dataframe\">\n",
       "  <thead>\n",
       "    <tr style=\"text-align: right;\">\n",
       "      <th></th>\n",
       "      <th>raw_text</th>\n",
       "      <th>sequences</th>\n",
       "    </tr>\n",
       "  </thead>\n",
       "  <tbody>\n",
       "    <tr>\n",
       "      <th>0</th>\n",
       "      <td>I am learning NLP</td>\n",
       "      <td>[[11, 12, 4, 13]]</td>\n",
       "    </tr>\n",
       "    <tr>\n",
       "      <th>1</th>\n",
       "      <td>It is a great day</td>\n",
       "      <td>[[9, 2, 5, 1, 1]]</td>\n",
       "    </tr>\n",
       "    <tr>\n",
       "      <th>2</th>\n",
       "      <td>We are doing data cleaning today</td>\n",
       "      <td>[[1, 1, 1, 1, 1, 1]]</td>\n",
       "    </tr>\n",
       "    <tr>\n",
       "      <th>3</th>\n",
       "      <td>Deep learning is interesting</td>\n",
       "      <td>[[20, 4, 2, 1]]</td>\n",
       "    </tr>\n",
       "    <tr>\n",
       "      <th>4</th>\n",
       "      <td>Today is tuesday</td>\n",
       "      <td>[[1, 2, 15]]</td>\n",
       "    </tr>\n",
       "    <tr>\n",
       "      <th>5</th>\n",
       "      <td>It is third day of the week</td>\n",
       "      <td>[[9, 2, 1, 1, 19, 1, 8]]</td>\n",
       "    </tr>\n",
       "  </tbody>\n",
       "</table>\n",
       "</div>"
      ],
      "text/plain": [
       "                           raw_text                 sequences\n",
       "0                 I am learning NLP         [[11, 12, 4, 13]]\n",
       "1                 It is a great day         [[9, 2, 5, 1, 1]]\n",
       "2  We are doing data cleaning today      [[1, 1, 1, 1, 1, 1]]\n",
       "3      Deep learning is interesting           [[20, 4, 2, 1]]\n",
       "4                  Today is tuesday              [[1, 2, 15]]\n",
       "5       It is third day of the week  [[9, 2, 1, 1, 19, 1, 8]]"
      ]
     },
     "execution_count": 19,
     "metadata": {},
     "output_type": "execute_result"
    }
   ],
   "source": [
    "df"
   ]
  },
  {
   "cell_type": "code",
   "execution_count": 21,
   "id": "3de04737",
   "metadata": {
    "ExecuteTime": {
     "end_time": "2022-07-12T15:30:27.292825Z",
     "start_time": "2022-07-12T15:30:27.286828Z"
    }
   },
   "outputs": [],
   "source": [
    "# Padding \n",
    "# 1. It is done to make all sentences of same length\n",
    "# 2. It basically checks the length of the sentence, if the length is greater than the max_len it truncates the sentence and if the length < max_len it padds the sentence.\n",
    "# 3. There are 2 types of truncating and padding namely, prepadding, post padding and pretruncating and posttruncating"
   ]
  },
  {
   "cell_type": "code",
   "execution_count": 22,
   "id": "2dcad2a9",
   "metadata": {
    "ExecuteTime": {
     "end_time": "2022-07-12T15:32:01.438629Z",
     "start_time": "2022-07-12T15:32:01.395654Z"
    }
   },
   "outputs": [],
   "source": [
    "df[\"prepadding\"] = df[\"sequences\"].apply(lambda x : pad_sequences(x, maxlen=5, padding=\"pre\", truncating=\"pre\"))"
   ]
  },
  {
   "cell_type": "code",
   "execution_count": 23,
   "id": "269c5831",
   "metadata": {
    "ExecuteTime": {
     "end_time": "2022-07-12T15:32:05.757669Z",
     "start_time": "2022-07-12T15:32:05.701690Z"
    }
   },
   "outputs": [
    {
     "data": {
      "text/html": [
       "<div>\n",
       "<style scoped>\n",
       "    .dataframe tbody tr th:only-of-type {\n",
       "        vertical-align: middle;\n",
       "    }\n",
       "\n",
       "    .dataframe tbody tr th {\n",
       "        vertical-align: top;\n",
       "    }\n",
       "\n",
       "    .dataframe thead th {\n",
       "        text-align: right;\n",
       "    }\n",
       "</style>\n",
       "<table border=\"1\" class=\"dataframe\">\n",
       "  <thead>\n",
       "    <tr style=\"text-align: right;\">\n",
       "      <th></th>\n",
       "      <th>raw_text</th>\n",
       "      <th>sequences</th>\n",
       "      <th>prepadding</th>\n",
       "    </tr>\n",
       "  </thead>\n",
       "  <tbody>\n",
       "    <tr>\n",
       "      <th>0</th>\n",
       "      <td>I am learning NLP</td>\n",
       "      <td>[[11, 12, 4, 13]]</td>\n",
       "      <td>[[0, 11, 12, 4, 13]]</td>\n",
       "    </tr>\n",
       "    <tr>\n",
       "      <th>1</th>\n",
       "      <td>It is a great day</td>\n",
       "      <td>[[9, 2, 5, 1, 1]]</td>\n",
       "      <td>[[9, 2, 5, 1, 1]]</td>\n",
       "    </tr>\n",
       "    <tr>\n",
       "      <th>2</th>\n",
       "      <td>We are doing data cleaning today</td>\n",
       "      <td>[[1, 1, 1, 1, 1, 1]]</td>\n",
       "      <td>[[1, 1, 1, 1, 1]]</td>\n",
       "    </tr>\n",
       "    <tr>\n",
       "      <th>3</th>\n",
       "      <td>Deep learning is interesting</td>\n",
       "      <td>[[20, 4, 2, 1]]</td>\n",
       "      <td>[[0, 20, 4, 2, 1]]</td>\n",
       "    </tr>\n",
       "    <tr>\n",
       "      <th>4</th>\n",
       "      <td>Today is tuesday</td>\n",
       "      <td>[[1, 2, 15]]</td>\n",
       "      <td>[[0, 0, 1, 2, 15]]</td>\n",
       "    </tr>\n",
       "    <tr>\n",
       "      <th>5</th>\n",
       "      <td>It is third day of the week</td>\n",
       "      <td>[[9, 2, 1, 1, 19, 1, 8]]</td>\n",
       "      <td>[[1, 1, 19, 1, 8]]</td>\n",
       "    </tr>\n",
       "  </tbody>\n",
       "</table>\n",
       "</div>"
      ],
      "text/plain": [
       "                           raw_text                 sequences            prepadding\n",
       "0                 I am learning NLP         [[11, 12, 4, 13]]  [[0, 11, 12, 4, 13]]\n",
       "1                 It is a great day         [[9, 2, 5, 1, 1]]     [[9, 2, 5, 1, 1]]\n",
       "2  We are doing data cleaning today      [[1, 1, 1, 1, 1, 1]]     [[1, 1, 1, 1, 1]]\n",
       "3      Deep learning is interesting           [[20, 4, 2, 1]]    [[0, 20, 4, 2, 1]]\n",
       "4                  Today is tuesday              [[1, 2, 15]]    [[0, 0, 1, 2, 15]]\n",
       "5       It is third day of the week  [[9, 2, 1, 1, 19, 1, 8]]    [[1, 1, 19, 1, 8]]"
      ]
     },
     "execution_count": 23,
     "metadata": {},
     "output_type": "execute_result"
    }
   ],
   "source": [
    "df"
   ]
  },
  {
   "cell_type": "code",
   "execution_count": 24,
   "id": "c9b45045",
   "metadata": {
    "ExecuteTime": {
     "end_time": "2022-07-12T15:34:46.395404Z",
     "start_time": "2022-07-12T15:34:46.385408Z"
    }
   },
   "outputs": [],
   "source": [
    "df[\"postpadding\"] = df[\"sequences\"].apply(lambda x : pad_sequences(x, maxlen=5, padding=\"post\", truncating=\"post\"))"
   ]
  },
  {
   "cell_type": "code",
   "execution_count": 25,
   "id": "1abec959",
   "metadata": {
    "ExecuteTime": {
     "end_time": "2022-07-12T15:34:48.995222Z",
     "start_time": "2022-07-12T15:34:48.938255Z"
    }
   },
   "outputs": [
    {
     "data": {
      "text/html": [
       "<div>\n",
       "<style scoped>\n",
       "    .dataframe tbody tr th:only-of-type {\n",
       "        vertical-align: middle;\n",
       "    }\n",
       "\n",
       "    .dataframe tbody tr th {\n",
       "        vertical-align: top;\n",
       "    }\n",
       "\n",
       "    .dataframe thead th {\n",
       "        text-align: right;\n",
       "    }\n",
       "</style>\n",
       "<table border=\"1\" class=\"dataframe\">\n",
       "  <thead>\n",
       "    <tr style=\"text-align: right;\">\n",
       "      <th></th>\n",
       "      <th>raw_text</th>\n",
       "      <th>sequences</th>\n",
       "      <th>prepadding</th>\n",
       "      <th>postpadding</th>\n",
       "    </tr>\n",
       "  </thead>\n",
       "  <tbody>\n",
       "    <tr>\n",
       "      <th>0</th>\n",
       "      <td>I am learning NLP</td>\n",
       "      <td>[[11, 12, 4, 13]]</td>\n",
       "      <td>[[0, 11, 12, 4, 13]]</td>\n",
       "      <td>[[11, 12, 4, 13, 0]]</td>\n",
       "    </tr>\n",
       "    <tr>\n",
       "      <th>1</th>\n",
       "      <td>It is a great day</td>\n",
       "      <td>[[9, 2, 5, 1, 1]]</td>\n",
       "      <td>[[9, 2, 5, 1, 1]]</td>\n",
       "      <td>[[9, 2, 5, 1, 1]]</td>\n",
       "    </tr>\n",
       "    <tr>\n",
       "      <th>2</th>\n",
       "      <td>We are doing data cleaning today</td>\n",
       "      <td>[[1, 1, 1, 1, 1, 1]]</td>\n",
       "      <td>[[1, 1, 1, 1, 1]]</td>\n",
       "      <td>[[1, 1, 1, 1, 1]]</td>\n",
       "    </tr>\n",
       "    <tr>\n",
       "      <th>3</th>\n",
       "      <td>Deep learning is interesting</td>\n",
       "      <td>[[20, 4, 2, 1]]</td>\n",
       "      <td>[[0, 20, 4, 2, 1]]</td>\n",
       "      <td>[[20, 4, 2, 1, 0]]</td>\n",
       "    </tr>\n",
       "    <tr>\n",
       "      <th>4</th>\n",
       "      <td>Today is tuesday</td>\n",
       "      <td>[[1, 2, 15]]</td>\n",
       "      <td>[[0, 0, 1, 2, 15]]</td>\n",
       "      <td>[[1, 2, 15, 0, 0]]</td>\n",
       "    </tr>\n",
       "    <tr>\n",
       "      <th>5</th>\n",
       "      <td>It is third day of the week</td>\n",
       "      <td>[[9, 2, 1, 1, 19, 1, 8]]</td>\n",
       "      <td>[[1, 1, 19, 1, 8]]</td>\n",
       "      <td>[[9, 2, 1, 1, 19]]</td>\n",
       "    </tr>\n",
       "  </tbody>\n",
       "</table>\n",
       "</div>"
      ],
      "text/plain": [
       "                           raw_text                 sequences            prepadding           postpadding\n",
       "0                 I am learning NLP         [[11, 12, 4, 13]]  [[0, 11, 12, 4, 13]]  [[11, 12, 4, 13, 0]]\n",
       "1                 It is a great day         [[9, 2, 5, 1, 1]]     [[9, 2, 5, 1, 1]]     [[9, 2, 5, 1, 1]]\n",
       "2  We are doing data cleaning today      [[1, 1, 1, 1, 1, 1]]     [[1, 1, 1, 1, 1]]     [[1, 1, 1, 1, 1]]\n",
       "3      Deep learning is interesting           [[20, 4, 2, 1]]    [[0, 20, 4, 2, 1]]    [[20, 4, 2, 1, 0]]\n",
       "4                  Today is tuesday              [[1, 2, 15]]    [[0, 0, 1, 2, 15]]    [[1, 2, 15, 0, 0]]\n",
       "5       It is third day of the week  [[9, 2, 1, 1, 19, 1, 8]]    [[1, 1, 19, 1, 8]]    [[9, 2, 1, 1, 19]]"
      ]
     },
     "execution_count": 25,
     "metadata": {},
     "output_type": "execute_result"
    }
   ],
   "source": [
    "df"
   ]
  },
  {
   "cell_type": "code",
   "execution_count": 26,
   "id": "7e427691",
   "metadata": {
    "ExecuteTime": {
     "end_time": "2022-07-12T15:40:03.571764Z",
     "start_time": "2022-07-12T15:40:03.566769Z"
    }
   },
   "outputs": [],
   "source": [
    "# Stemming and Lemmatizing - It is done to truncate unnecessary suffixes and prefixes"
   ]
  },
  {
   "cell_type": "code",
   "execution_count": 28,
   "id": "568a9b47",
   "metadata": {
    "ExecuteTime": {
     "end_time": "2022-07-12T15:41:35.446851Z",
     "start_time": "2022-07-12T15:41:35.440849Z"
    }
   },
   "outputs": [],
   "source": [
    "por = PorterStemmer()"
   ]
  },
  {
   "cell_type": "code",
   "execution_count": 31,
   "id": "e2e3c963",
   "metadata": {
    "ExecuteTime": {
     "end_time": "2022-07-12T15:48:09.646995Z",
     "start_time": "2022-07-12T15:48:09.637002Z"
    }
   },
   "outputs": [],
   "source": [
    "df[\"stemmed_data\"] = df[\"raw_text\"].apply(lambda x : por.stem(x))"
   ]
  },
  {
   "cell_type": "code",
   "execution_count": 32,
   "id": "a7500c2c",
   "metadata": {
    "ExecuteTime": {
     "end_time": "2022-07-12T15:48:18.046750Z",
     "start_time": "2022-07-12T15:48:17.788032Z"
    }
   },
   "outputs": [
    {
     "data": {
      "text/html": [
       "<div>\n",
       "<style scoped>\n",
       "    .dataframe tbody tr th:only-of-type {\n",
       "        vertical-align: middle;\n",
       "    }\n",
       "\n",
       "    .dataframe tbody tr th {\n",
       "        vertical-align: top;\n",
       "    }\n",
       "\n",
       "    .dataframe thead th {\n",
       "        text-align: right;\n",
       "    }\n",
       "</style>\n",
       "<table border=\"1\" class=\"dataframe\">\n",
       "  <thead>\n",
       "    <tr style=\"text-align: right;\">\n",
       "      <th></th>\n",
       "      <th>raw_text</th>\n",
       "      <th>sequences</th>\n",
       "      <th>prepadding</th>\n",
       "      <th>postpadding</th>\n",
       "      <th>stemmed_data</th>\n",
       "    </tr>\n",
       "  </thead>\n",
       "  <tbody>\n",
       "    <tr>\n",
       "      <th>0</th>\n",
       "      <td>I am learning NLP</td>\n",
       "      <td>[[11, 12, 4, 13]]</td>\n",
       "      <td>[[0, 11, 12, 4, 13]]</td>\n",
       "      <td>[[11, 12, 4, 13, 0]]</td>\n",
       "      <td>i am learning nlp</td>\n",
       "    </tr>\n",
       "    <tr>\n",
       "      <th>1</th>\n",
       "      <td>It is a great day</td>\n",
       "      <td>[[9, 2, 5, 1, 1]]</td>\n",
       "      <td>[[9, 2, 5, 1, 1]]</td>\n",
       "      <td>[[9, 2, 5, 1, 1]]</td>\n",
       "      <td>it is a great day</td>\n",
       "    </tr>\n",
       "    <tr>\n",
       "      <th>2</th>\n",
       "      <td>We are doing data cleaning today</td>\n",
       "      <td>[[1, 1, 1, 1, 1, 1]]</td>\n",
       "      <td>[[1, 1, 1, 1, 1]]</td>\n",
       "      <td>[[1, 1, 1, 1, 1]]</td>\n",
       "      <td>we are doing data cleaning today</td>\n",
       "    </tr>\n",
       "    <tr>\n",
       "      <th>3</th>\n",
       "      <td>Deep learning is interesting</td>\n",
       "      <td>[[20, 4, 2, 1]]</td>\n",
       "      <td>[[0, 20, 4, 2, 1]]</td>\n",
       "      <td>[[20, 4, 2, 1, 0]]</td>\n",
       "      <td>deep learning is interest</td>\n",
       "    </tr>\n",
       "    <tr>\n",
       "      <th>4</th>\n",
       "      <td>Today is tuesday</td>\n",
       "      <td>[[1, 2, 15]]</td>\n",
       "      <td>[[0, 0, 1, 2, 15]]</td>\n",
       "      <td>[[1, 2, 15, 0, 0]]</td>\n",
       "      <td>today is tuesday</td>\n",
       "    </tr>\n",
       "    <tr>\n",
       "      <th>5</th>\n",
       "      <td>It is third day of the week</td>\n",
       "      <td>[[9, 2, 1, 1, 19, 1, 8]]</td>\n",
       "      <td>[[1, 1, 19, 1, 8]]</td>\n",
       "      <td>[[9, 2, 1, 1, 19]]</td>\n",
       "      <td>it is third day of the week</td>\n",
       "    </tr>\n",
       "  </tbody>\n",
       "</table>\n",
       "</div>"
      ],
      "text/plain": [
       "                           raw_text                 sequences  ...           postpadding                      stemmed_data\n",
       "0                 I am learning NLP         [[11, 12, 4, 13]]  ...  [[11, 12, 4, 13, 0]]                 i am learning nlp\n",
       "1                 It is a great day         [[9, 2, 5, 1, 1]]  ...     [[9, 2, 5, 1, 1]]                 it is a great day\n",
       "2  We are doing data cleaning today      [[1, 1, 1, 1, 1, 1]]  ...     [[1, 1, 1, 1, 1]]  we are doing data cleaning today\n",
       "3      Deep learning is interesting           [[20, 4, 2, 1]]  ...    [[20, 4, 2, 1, 0]]         deep learning is interest\n",
       "4                  Today is tuesday              [[1, 2, 15]]  ...    [[1, 2, 15, 0, 0]]                  today is tuesday\n",
       "5       It is third day of the week  [[9, 2, 1, 1, 19, 1, 8]]  ...    [[9, 2, 1, 1, 19]]       it is third day of the week\n",
       "\n",
       "[6 rows x 5 columns]"
      ]
     },
     "execution_count": 32,
     "metadata": {},
     "output_type": "execute_result"
    }
   ],
   "source": [
    "df"
   ]
  },
  {
   "cell_type": "code",
   "execution_count": 34,
   "id": "7e8952ef",
   "metadata": {
    "ExecuteTime": {
     "end_time": "2022-07-12T15:49:11.511919Z",
     "start_time": "2022-07-12T15:49:11.505921Z"
    }
   },
   "outputs": [],
   "source": [
    "lemma = WordNetLemmatizer()"
   ]
  },
  {
   "cell_type": "code",
   "execution_count": 37,
   "id": "6d04bd54",
   "metadata": {
    "ExecuteTime": {
     "end_time": "2022-07-12T15:50:56.236169Z",
     "start_time": "2022-07-12T15:50:53.177603Z"
    }
   },
   "outputs": [],
   "source": [
    "df[\"lemmed_data\"] = df[\"raw_text\"].apply(lambda x : lemma.lemmatize(x))"
   ]
  },
  {
   "cell_type": "code",
   "execution_count": 38,
   "id": "d9089024",
   "metadata": {
    "ExecuteTime": {
     "end_time": "2022-07-12T15:51:01.155748Z",
     "start_time": "2022-07-12T15:51:01.032815Z"
    }
   },
   "outputs": [
    {
     "data": {
      "text/html": [
       "<div>\n",
       "<style scoped>\n",
       "    .dataframe tbody tr th:only-of-type {\n",
       "        vertical-align: middle;\n",
       "    }\n",
       "\n",
       "    .dataframe tbody tr th {\n",
       "        vertical-align: top;\n",
       "    }\n",
       "\n",
       "    .dataframe thead th {\n",
       "        text-align: right;\n",
       "    }\n",
       "</style>\n",
       "<table border=\"1\" class=\"dataframe\">\n",
       "  <thead>\n",
       "    <tr style=\"text-align: right;\">\n",
       "      <th></th>\n",
       "      <th>raw_text</th>\n",
       "      <th>sequences</th>\n",
       "      <th>prepadding</th>\n",
       "      <th>postpadding</th>\n",
       "      <th>stemmed_data</th>\n",
       "      <th>lemmed_data</th>\n",
       "    </tr>\n",
       "  </thead>\n",
       "  <tbody>\n",
       "    <tr>\n",
       "      <th>0</th>\n",
       "      <td>I am learning NLP</td>\n",
       "      <td>[[11, 12, 4, 13]]</td>\n",
       "      <td>[[0, 11, 12, 4, 13]]</td>\n",
       "      <td>[[11, 12, 4, 13, 0]]</td>\n",
       "      <td>i am learning nlp</td>\n",
       "      <td>I am learning NLP</td>\n",
       "    </tr>\n",
       "    <tr>\n",
       "      <th>1</th>\n",
       "      <td>It is a great day</td>\n",
       "      <td>[[9, 2, 5, 1, 1]]</td>\n",
       "      <td>[[9, 2, 5, 1, 1]]</td>\n",
       "      <td>[[9, 2, 5, 1, 1]]</td>\n",
       "      <td>it is a great day</td>\n",
       "      <td>It is a great day</td>\n",
       "    </tr>\n",
       "    <tr>\n",
       "      <th>2</th>\n",
       "      <td>We are doing data cleaning today</td>\n",
       "      <td>[[1, 1, 1, 1, 1, 1]]</td>\n",
       "      <td>[[1, 1, 1, 1, 1]]</td>\n",
       "      <td>[[1, 1, 1, 1, 1]]</td>\n",
       "      <td>we are doing data cleaning today</td>\n",
       "      <td>We are doing data cleaning today</td>\n",
       "    </tr>\n",
       "    <tr>\n",
       "      <th>3</th>\n",
       "      <td>Deep learning is interesting</td>\n",
       "      <td>[[20, 4, 2, 1]]</td>\n",
       "      <td>[[0, 20, 4, 2, 1]]</td>\n",
       "      <td>[[20, 4, 2, 1, 0]]</td>\n",
       "      <td>deep learning is interest</td>\n",
       "      <td>Deep learning is interesting</td>\n",
       "    </tr>\n",
       "    <tr>\n",
       "      <th>4</th>\n",
       "      <td>Today is tuesday</td>\n",
       "      <td>[[1, 2, 15]]</td>\n",
       "      <td>[[0, 0, 1, 2, 15]]</td>\n",
       "      <td>[[1, 2, 15, 0, 0]]</td>\n",
       "      <td>today is tuesday</td>\n",
       "      <td>Today is tuesday</td>\n",
       "    </tr>\n",
       "    <tr>\n",
       "      <th>5</th>\n",
       "      <td>It is third day of the week</td>\n",
       "      <td>[[9, 2, 1, 1, 19, 1, 8]]</td>\n",
       "      <td>[[1, 1, 19, 1, 8]]</td>\n",
       "      <td>[[9, 2, 1, 1, 19]]</td>\n",
       "      <td>it is third day of the week</td>\n",
       "      <td>It is third day of the week</td>\n",
       "    </tr>\n",
       "  </tbody>\n",
       "</table>\n",
       "</div>"
      ],
      "text/plain": [
       "                           raw_text  ...                       lemmed_data\n",
       "0                 I am learning NLP  ...                 I am learning NLP\n",
       "1                 It is a great day  ...                 It is a great day\n",
       "2  We are doing data cleaning today  ...  We are doing data cleaning today\n",
       "3      Deep learning is interesting  ...      Deep learning is interesting\n",
       "4                  Today is tuesday  ...                  Today is tuesday\n",
       "5       It is third day of the week  ...       It is third day of the week\n",
       "\n",
       "[6 rows x 6 columns]"
      ]
     },
     "execution_count": 38,
     "metadata": {},
     "output_type": "execute_result"
    }
   ],
   "source": [
    "df"
   ]
  },
  {
   "cell_type": "code",
   "execution_count": null,
   "id": "b91ac6fe",
   "metadata": {},
   "outputs": [],
   "source": []
  }
 ],
 "metadata": {
  "kernelspec": {
   "display_name": "Python 3 (ipykernel)",
   "language": "python",
   "name": "python3"
  },
  "language_info": {
   "codemirror_mode": {
    "name": "ipython",
    "version": 3
   },
   "file_extension": ".py",
   "mimetype": "text/x-python",
   "name": "python",
   "nbconvert_exporter": "python",
   "pygments_lexer": "ipython3",
   "version": "3.9.7"
  }
 },
 "nbformat": 4,
 "nbformat_minor": 5
}
