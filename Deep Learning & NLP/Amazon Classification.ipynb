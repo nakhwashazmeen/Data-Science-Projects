{
 "cells": [
  {
   "cell_type": "code",
   "execution_count": 49,
   "id": "dc096279",
   "metadata": {
    "ExecuteTime": {
     "end_time": "2022-07-14T16:20:28.566653Z",
     "start_time": "2022-07-14T16:20:22.248902Z"
    }
   },
   "outputs": [
    {
     "name": "stderr",
     "output_type": "stream",
     "text": [
      "[nltk_data] Downloading package stopwords to\n",
      "[nltk_data]     C:\\Users\\palla\\AppData\\Roaming\\nltk_data...\n",
      "[nltk_data]   Package stopwords is already up-to-date!\n"
     ]
    }
   ],
   "source": [
    "import pandas as pd\n",
    "import numpy as np\n",
    "import gzip\n",
    "\n",
    "# Text Cleaning Libraries\n",
    "import re\n",
    "import nltk\n",
    "from nltk.corpus import stopwords \n",
    "nltk.download('stopwords')\n",
    "stops = stopwords.words(\"english\")\n",
    "\n",
    "from sklearn.model_selection import train_test_split\n",
    "from tensorflow.keras.preprocessing.text import Tokenizer\n",
    "from tensorflow.keras.preprocessing.sequence import pad_sequences\n",
    "from tensorflow.keras.models import Sequential\n",
    "from tensorflow.keras.layers import Embedding, LSTM, Dense\n",
    "\n",
    "import matplotlib.pyplot as plt"
   ]
  },
  {
   "cell_type": "code",
   "execution_count": 2,
   "id": "5405ab42",
   "metadata": {
    "ExecuteTime": {
     "end_time": "2022-07-14T14:32:30.310435Z",
     "start_time": "2022-07-14T14:32:30.274456Z"
    }
   },
   "outputs": [],
   "source": [
    "def parse(path):\n",
    "  g = gzip.open(path, 'rb')\n",
    "  for l in g:\n",
    "    yield eval(l)\n",
    "\n",
    "def getDF(path):\n",
    "  i = 0\n",
    "  df = {}\n",
    "  for d in parse(path):\n",
    "    df[i] = d\n",
    "    i += 1\n",
    "  return pd.DataFrame.from_dict(df, orient='index')"
   ]
  },
  {
   "cell_type": "code",
   "execution_count": 3,
   "id": "e44ac79a",
   "metadata": {
    "ExecuteTime": {
     "end_time": "2022-07-14T14:35:09.406257Z",
     "start_time": "2022-07-14T14:32:30.317431Z"
    }
   },
   "outputs": [],
   "source": [
    "beauty_df = getDF(\"reviews_Beauty_5.json.gz\")\n",
    "grocery_df = getDF(\"reviews_Grocery_and_Gourmet_Food_5.json.gz\")\n",
    "home_df = getDF(\"reviews_Home_and_Kitchen_5.json.gz\")\n",
    "office_df = getDF(\"reviews_Office_Products_5.json.gz\")\n",
    "pet_df = getDF(\"reviews_Pet_Supplies_5.json.gz\")"
   ]
  },
  {
   "cell_type": "code",
   "execution_count": 4,
   "id": "dec767e1",
   "metadata": {
    "ExecuteTime": {
     "end_time": "2022-07-14T14:35:16.221818Z",
     "start_time": "2022-07-14T14:35:09.411236Z"
    }
   },
   "outputs": [],
   "source": [
    "beauty_df[\"text\"] = beauty_df[\"reviewText\"]+beauty_df[\"summary\"]\n",
    "beauty_df[\"category\"] = 0 # Beauty has been encoded to 0\n",
    "beauty_df = beauty_df.head(53200)\n",
    "beauty_df = beauty_df[[\"text\",\"category\"]]\n",
    "beauty_df = beauty_df.drop_duplicates()\n",
    "\n",
    "grocery_df[\"text\"] = grocery_df[\"reviewText\"] + grocery_df[\"summary\"]\n",
    "grocery_df[\"category\"] = 1 # Grocery has been encoded to 1\n",
    "grocery_df = grocery_df.head(53200)\n",
    "grocery_df = grocery_df[[\"text\",\"category\"]]\n",
    "grocery_df = grocery_df.drop_duplicates()\n",
    "\n",
    "home_df[\"text\"] = home_df[\"reviewText\"] + home_df[\"summary\"]\n",
    "home_df[\"category\"] = 2 # Home has been encoded to 2\n",
    "home_df = home_df.head(53200)\n",
    "home_df = home_df[[\"text\",\"category\"]]\n",
    "home_df = home_df.drop_duplicates()\n",
    "\n",
    "office_df[\"text\"] = office_df[\"reviewText\"] + office_df[\"summary\"]\n",
    "office_df[\"category\"] = 3 # office has been encoded to 3\n",
    "office_df = office_df.head(53200)\n",
    "office_df = office_df[[\"text\",\"category\"]]\n",
    "office_df = office_df.drop_duplicates()\n",
    "\n",
    "pet_df[\"text\"] = pet_df[\"reviewText\"] + pet_df[\"summary\"]\n",
    "pet_df[\"category\"] = 4 # Pet has been encoded to 4\n",
    "pet_df = pet_df.head(53200)\n",
    "pet_df = pet_df[[\"text\",\"category\"]]\n",
    "pet_df = pet_df.drop_duplicates()"
   ]
  },
  {
   "cell_type": "code",
   "execution_count": 5,
   "id": "a1bdbdc4",
   "metadata": {
    "ExecuteTime": {
     "end_time": "2022-07-14T14:35:16.244809Z",
     "start_time": "2022-07-14T14:35:16.223817Z"
    }
   },
   "outputs": [],
   "source": [
    "df = pd.concat([beauty_df,grocery_df,home_df,office_df,pet_df])"
   ]
  },
  {
   "cell_type": "code",
   "execution_count": 6,
   "id": "d1255b6a",
   "metadata": {
    "ExecuteTime": {
     "end_time": "2022-07-14T14:35:16.504630Z",
     "start_time": "2022-07-14T14:35:16.248803Z"
    }
   },
   "outputs": [
    {
     "data": {
      "text/plain": [
       "(265993, 2)"
      ]
     },
     "execution_count": 6,
     "metadata": {},
     "output_type": "execute_result"
    }
   ],
   "source": [
    "df.shape"
   ]
  },
  {
   "cell_type": "code",
   "execution_count": 7,
   "id": "644a3d57",
   "metadata": {
    "ExecuteTime": {
     "end_time": "2022-07-14T14:35:17.366617Z",
     "start_time": "2022-07-14T14:35:16.508623Z"
    }
   },
   "outputs": [],
   "source": [
    "df.dropna(inplace=True)"
   ]
  },
  {
   "cell_type": "code",
   "execution_count": 8,
   "id": "66e7d60c",
   "metadata": {
    "ExecuteTime": {
     "end_time": "2022-07-14T14:35:18.060803Z",
     "start_time": "2022-07-14T14:35:17.369596Z"
    }
   },
   "outputs": [
    {
     "data": {
      "text/plain": [
       "(265993, 2)"
      ]
     },
     "execution_count": 8,
     "metadata": {},
     "output_type": "execute_result"
    }
   ],
   "source": [
    "df.shape"
   ]
  },
  {
   "cell_type": "code",
   "execution_count": 9,
   "id": "07a97c04",
   "metadata": {
    "ExecuteTime": {
     "end_time": "2022-07-14T14:35:18.426594Z",
     "start_time": "2022-07-14T14:35:18.064802Z"
    }
   },
   "outputs": [
    {
     "data": {
      "text/html": [
       "<div>\n",
       "<style scoped>\n",
       "    .dataframe tbody tr th:only-of-type {\n",
       "        vertical-align: middle;\n",
       "    }\n",
       "\n",
       "    .dataframe tbody tr th {\n",
       "        vertical-align: top;\n",
       "    }\n",
       "\n",
       "    .dataframe thead th {\n",
       "        text-align: right;\n",
       "    }\n",
       "</style>\n",
       "<table border=\"1\" class=\"dataframe\">\n",
       "  <thead>\n",
       "    <tr style=\"text-align: right;\">\n",
       "      <th></th>\n",
       "      <th>text</th>\n",
       "      <th>category</th>\n",
       "    </tr>\n",
       "  </thead>\n",
       "  <tbody>\n",
       "    <tr>\n",
       "      <th>0</th>\n",
       "      <td>Very oily and creamy. Not at all what I expect...</td>\n",
       "      <td>0</td>\n",
       "    </tr>\n",
       "    <tr>\n",
       "      <th>1</th>\n",
       "      <td>This palette was a decent price and I was look...</td>\n",
       "      <td>0</td>\n",
       "    </tr>\n",
       "    <tr>\n",
       "      <th>2</th>\n",
       "      <td>The texture of this concealer pallet is fantas...</td>\n",
       "      <td>0</td>\n",
       "    </tr>\n",
       "    <tr>\n",
       "      <th>3</th>\n",
       "      <td>I really can't tell what exactly this thing is...</td>\n",
       "      <td>0</td>\n",
       "    </tr>\n",
       "    <tr>\n",
       "      <th>4</th>\n",
       "      <td>It was a little smaller than I expected, but t...</td>\n",
       "      <td>0</td>\n",
       "    </tr>\n",
       "    <tr>\n",
       "      <th>...</th>\n",
       "      <td>...</td>\n",
       "      <td>...</td>\n",
       "    </tr>\n",
       "    <tr>\n",
       "      <th>53195</th>\n",
       "      <td>I can scoop the wet and dirty litter into the ...</td>\n",
       "      <td>4</td>\n",
       "    </tr>\n",
       "    <tr>\n",
       "      <th>53196</th>\n",
       "      <td>LITTER LOCKER is a great product. I have two c...</td>\n",
       "      <td>4</td>\n",
       "    </tr>\n",
       "    <tr>\n",
       "      <th>53197</th>\n",
       "      <td>Great product to have in a house with multi ca...</td>\n",
       "      <td>4</td>\n",
       "    </tr>\n",
       "    <tr>\n",
       "      <th>53198</th>\n",
       "      <td>We purchased the Litter Locker and LOVE it! Ma...</td>\n",
       "      <td>4</td>\n",
       "    </tr>\n",
       "    <tr>\n",
       "      <th>53199</th>\n",
       "      <td>I really like this product.  Being able to buy...</td>\n",
       "      <td>4</td>\n",
       "    </tr>\n",
       "  </tbody>\n",
       "</table>\n",
       "<p>265993 rows × 2 columns</p>\n",
       "</div>"
      ],
      "text/plain": [
       "                                                    text  category\n",
       "0      Very oily and creamy. Not at all what I expect...         0\n",
       "1      This palette was a decent price and I was look...         0\n",
       "2      The texture of this concealer pallet is fantas...         0\n",
       "3      I really can't tell what exactly this thing is...         0\n",
       "4      It was a little smaller than I expected, but t...         0\n",
       "...                                                  ...       ...\n",
       "53195  I can scoop the wet and dirty litter into the ...         4\n",
       "53196  LITTER LOCKER is a great product. I have two c...         4\n",
       "53197  Great product to have in a house with multi ca...         4\n",
       "53198  We purchased the Litter Locker and LOVE it! Ma...         4\n",
       "53199  I really like this product.  Being able to buy...         4\n",
       "\n",
       "[265993 rows x 2 columns]"
      ]
     },
     "execution_count": 9,
     "metadata": {},
     "output_type": "execute_result"
    }
   ],
   "source": [
    "df"
   ]
  },
  {
   "cell_type": "code",
   "execution_count": 10,
   "id": "132b7f18",
   "metadata": {
    "ExecuteTime": {
     "end_time": "2022-07-14T14:35:18.531534Z",
     "start_time": "2022-07-14T14:35:18.434591Z"
    }
   },
   "outputs": [],
   "source": [
    "def data_cleaning(text):\n",
    "    text = text.lower() # convert everything into lower case\n",
    "    text = re.sub(\"[^a-z]\",\" \",text) # (\"allow\",\"replace\",\"data\")\n",
    "    text = re.sub(\"http\\S+\",\" \",text,flags=re.MULTILINE) # replaces hyperlinks with space and flags is to recursively check hyperlinks\n",
    "    words = text.split()  # Split the entire sentence into words\n",
    "    imp_words = [w for w in words if w not in stops] # Picking up only imp words after filtering out the stop words\n",
    "    \n",
    "    return(\" \".join(imp_words))"
   ]
  },
  {
   "cell_type": "code",
   "execution_count": 11,
   "id": "df2b6bc9",
   "metadata": {
    "ExecuteTime": {
     "end_time": "2022-07-14T14:37:14.152160Z",
     "start_time": "2022-07-14T14:35:18.535532Z"
    }
   },
   "outputs": [],
   "source": [
    "df[\"cleaned_text\"] = df[\"text\"].apply(lambda x : data_cleaning(x) ) "
   ]
  },
  {
   "cell_type": "code",
   "execution_count": 12,
   "id": "84e21d8c",
   "metadata": {
    "ExecuteTime": {
     "end_time": "2022-07-14T14:37:14.219117Z",
     "start_time": "2022-07-14T14:37:14.155128Z"
    }
   },
   "outputs": [
    {
     "data": {
      "text/html": [
       "<div>\n",
       "<style scoped>\n",
       "    .dataframe tbody tr th:only-of-type {\n",
       "        vertical-align: middle;\n",
       "    }\n",
       "\n",
       "    .dataframe tbody tr th {\n",
       "        vertical-align: top;\n",
       "    }\n",
       "\n",
       "    .dataframe thead th {\n",
       "        text-align: right;\n",
       "    }\n",
       "</style>\n",
       "<table border=\"1\" class=\"dataframe\">\n",
       "  <thead>\n",
       "    <tr style=\"text-align: right;\">\n",
       "      <th></th>\n",
       "      <th>text</th>\n",
       "      <th>category</th>\n",
       "      <th>cleaned_text</th>\n",
       "    </tr>\n",
       "  </thead>\n",
       "  <tbody>\n",
       "    <tr>\n",
       "      <th>0</th>\n",
       "      <td>Very oily and creamy. Not at all what I expect...</td>\n",
       "      <td>0</td>\n",
       "      <td>oily creamy expected ordered try highlight con...</td>\n",
       "    </tr>\n",
       "    <tr>\n",
       "      <th>1</th>\n",
       "      <td>This palette was a decent price and I was look...</td>\n",
       "      <td>0</td>\n",
       "      <td>palette decent price looking different shades ...</td>\n",
       "    </tr>\n",
       "    <tr>\n",
       "      <th>2</th>\n",
       "      <td>The texture of this concealer pallet is fantas...</td>\n",
       "      <td>0</td>\n",
       "      <td>texture concealer pallet fantastic great cover...</td>\n",
       "    </tr>\n",
       "    <tr>\n",
       "      <th>3</th>\n",
       "      <td>I really can't tell what exactly this thing is...</td>\n",
       "      <td>0</td>\n",
       "      <td>really tell exactly thing powder kind oil ish ...</td>\n",
       "    </tr>\n",
       "    <tr>\n",
       "      <th>4</th>\n",
       "      <td>It was a little smaller than I expected, but t...</td>\n",
       "      <td>0</td>\n",
       "      <td>little smaller expected okay lasted long time ...</td>\n",
       "    </tr>\n",
       "  </tbody>\n",
       "</table>\n",
       "</div>"
      ],
      "text/plain": [
       "                                                text  category  \\\n",
       "0  Very oily and creamy. Not at all what I expect...         0   \n",
       "1  This palette was a decent price and I was look...         0   \n",
       "2  The texture of this concealer pallet is fantas...         0   \n",
       "3  I really can't tell what exactly this thing is...         0   \n",
       "4  It was a little smaller than I expected, but t...         0   \n",
       "\n",
       "                                        cleaned_text  \n",
       "0  oily creamy expected ordered try highlight con...  \n",
       "1  palette decent price looking different shades ...  \n",
       "2  texture concealer pallet fantastic great cover...  \n",
       "3  really tell exactly thing powder kind oil ish ...  \n",
       "4  little smaller expected okay lasted long time ...  "
      ]
     },
     "execution_count": 12,
     "metadata": {},
     "output_type": "execute_result"
    }
   ],
   "source": [
    "df.head()"
   ]
  },
  {
   "cell_type": "code",
   "execution_count": 13,
   "id": "5c0f1fa1",
   "metadata": {
    "ExecuteTime": {
     "end_time": "2022-07-14T14:37:14.430010Z",
     "start_time": "2022-07-14T14:37:14.224090Z"
    }
   },
   "outputs": [],
   "source": [
    "df = df[[\"cleaned_text\", \"category\"]]"
   ]
  },
  {
   "cell_type": "code",
   "execution_count": 29,
   "id": "dcbd1ab2",
   "metadata": {
    "ExecuteTime": {
     "end_time": "2022-07-14T14:50:11.418916Z",
     "start_time": "2022-07-14T14:50:09.300125Z"
    }
   },
   "outputs": [
    {
     "data": {
      "text/plain": [
       "3097"
      ]
     },
     "execution_count": 29,
     "metadata": {},
     "output_type": "execute_result"
    }
   ],
   "source": [
    "max(df[\"cleaned_text\"].apply(lambda x : len(x.split())))"
   ]
  },
  {
   "cell_type": "code",
   "execution_count": 30,
   "id": "1503aacf",
   "metadata": {
    "ExecuteTime": {
     "end_time": "2022-07-14T14:50:39.795643Z",
     "start_time": "2022-07-14T14:50:37.628861Z"
    }
   },
   "outputs": [
    {
     "data": {
      "text/plain": [
       "0"
      ]
     },
     "execution_count": 30,
     "metadata": {},
     "output_type": "execute_result"
    }
   ],
   "source": [
    "min(df[\"cleaned_text\"].apply(lambda x : len(x.split())))"
   ]
  },
  {
   "cell_type": "code",
   "execution_count": 34,
   "id": "65d31130",
   "metadata": {
    "ExecuteTime": {
     "end_time": "2022-07-14T14:52:51.099903Z",
     "start_time": "2022-07-14T14:52:48.909364Z"
    }
   },
   "outputs": [
    {
     "data": {
      "text/plain": [
       "52.615971096983756"
      ]
     },
     "execution_count": 34,
     "metadata": {},
     "output_type": "execute_result"
    }
   ],
   "source": [
    "np.mean(df[\"cleaned_text\"].apply(lambda x : len(x.split())))"
   ]
  },
  {
   "cell_type": "code",
   "execution_count": 22,
   "id": "45e2bb44",
   "metadata": {
    "ExecuteTime": {
     "end_time": "2022-07-14T14:46:52.340806Z",
     "start_time": "2022-07-14T14:46:52.333811Z"
    }
   },
   "outputs": [],
   "source": [
    "X = df[\"cleaned_text\"]\n",
    "y = df[\"category\"]"
   ]
  },
  {
   "cell_type": "code",
   "execution_count": 23,
   "id": "82174b61",
   "metadata": {
    "ExecuteTime": {
     "end_time": "2022-07-14T14:46:56.433589Z",
     "start_time": "2022-07-14T14:46:56.322612Z"
    }
   },
   "outputs": [],
   "source": [
    "X_train, X_test, y_train, y_test = train_test_split(X,y,test_size=0.2, random_state=42)"
   ]
  },
  {
   "cell_type": "markdown",
   "id": "28665d78",
   "metadata": {},
   "source": [
    "# Data Preprocessing"
   ]
  },
  {
   "cell_type": "code",
   "execution_count": 24,
   "id": "b806f7b0",
   "metadata": {
    "ExecuteTime": {
     "end_time": "2022-07-14T14:46:59.047279Z",
     "start_time": "2022-07-14T14:46:59.041265Z"
    }
   },
   "outputs": [],
   "source": [
    "tok = Tokenizer(oov_token=\"<UNK>\")"
   ]
  },
  {
   "cell_type": "code",
   "execution_count": 25,
   "id": "4d75217d",
   "metadata": {
    "ExecuteTime": {
     "end_time": "2022-07-14T14:47:20.720575Z",
     "start_time": "2022-07-14T14:47:00.961025Z"
    }
   },
   "outputs": [],
   "source": [
    "tok.fit_on_texts(X_train)"
   ]
  },
  {
   "cell_type": "code",
   "execution_count": 26,
   "id": "4b504e5c",
   "metadata": {
    "ExecuteTime": {
     "end_time": "2022-07-14T14:47:20.747792Z",
     "start_time": "2022-07-14T14:47:20.723824Z"
    }
   },
   "outputs": [
    {
     "data": {
      "text/plain": [
       "112548"
      ]
     },
     "execution_count": 26,
     "metadata": {},
     "output_type": "execute_result"
    }
   ],
   "source": [
    "len(tok.word_index)"
   ]
  },
  {
   "cell_type": "code",
   "execution_count": 27,
   "id": "47d037c2",
   "metadata": {
    "ExecuteTime": {
     "end_time": "2022-07-14T14:48:08.682112Z",
     "start_time": "2022-07-14T14:48:08.677114Z"
    }
   },
   "outputs": [],
   "source": [
    "vocab_size = len(tok.word_index) + 1"
   ]
  },
  {
   "cell_type": "code",
   "execution_count": 35,
   "id": "087e3fc3",
   "metadata": {
    "ExecuteTime": {
     "end_time": "2022-07-14T14:55:49.583823Z",
     "start_time": "2022-07-14T14:55:49.576827Z"
    }
   },
   "outputs": [],
   "source": [
    "max_length = 120\n",
    "truncating_type = \"post\"\n",
    "padding_type = \"post\""
   ]
  },
  {
   "cell_type": "code",
   "execution_count": 36,
   "id": "a6b7de09",
   "metadata": {
    "ExecuteTime": {
     "end_time": "2022-07-14T14:56:55.035228Z",
     "start_time": "2022-07-14T14:56:37.368226Z"
    }
   },
   "outputs": [],
   "source": [
    "train_sequences = tok.texts_to_sequences(X_train)\n",
    "test_sequences = tok.texts_to_sequences(X_test)"
   ]
  },
  {
   "cell_type": "code",
   "execution_count": 37,
   "id": "ae7fd211",
   "metadata": {
    "ExecuteTime": {
     "end_time": "2022-07-14T14:58:14.236530Z",
     "start_time": "2022-07-14T14:58:11.005726Z"
    }
   },
   "outputs": [],
   "source": [
    "train_padded = pad_sequences(train_sequences, maxlen=max_length, truncating=truncating_type, padding=padding_type)\n",
    "test_padded = pad_sequences(test_sequences, maxlen=max_length, truncating=truncating_type, padding=padding_type)"
   ]
  },
  {
   "cell_type": "code",
   "execution_count": 38,
   "id": "7d15d587",
   "metadata": {
    "ExecuteTime": {
     "end_time": "2022-07-14T14:58:23.649666Z",
     "start_time": "2022-07-14T14:58:23.640677Z"
    }
   },
   "outputs": [
    {
     "data": {
      "text/plain": [
       "array([   42,     2,   477, 16269,   424,  3023,  3125,   977,   324,\n",
       "           2,   267,   305,  1439,  3060,    95,  2735,   410,  1233,\n",
       "         104, 16269,   424,  2164,    10,  3656,   215,    48, 16269,\n",
       "         424,   204,     2,    21,    94,   420,     9,   410,  6513,\n",
       "         952,   542,   336,     4, 16269,   424,    26,     0,     0,\n",
       "           0,     0,     0,     0,     0,     0,     0,     0,     0,\n",
       "           0,     0,     0,     0,     0,     0,     0,     0,     0,\n",
       "           0,     0,     0,     0,     0,     0,     0,     0,     0,\n",
       "           0,     0,     0,     0,     0,     0,     0,     0,     0,\n",
       "           0,     0,     0,     0,     0,     0,     0,     0,     0,\n",
       "           0,     0,     0,     0,     0,     0,     0,     0,     0,\n",
       "           0,     0,     0,     0,     0,     0,     0,     0,     0,\n",
       "           0,     0,     0,     0,     0,     0,     0,     0,     0,\n",
       "           0,     0,     0])"
      ]
     },
     "execution_count": 38,
     "metadata": {},
     "output_type": "execute_result"
    }
   ],
   "source": [
    "train_padded[0]"
   ]
  },
  {
   "cell_type": "code",
   "execution_count": 41,
   "id": "884eeb22",
   "metadata": {
    "ExecuteTime": {
     "end_time": "2022-07-14T15:02:31.480664Z",
     "start_time": "2022-07-14T15:02:24.775997Z"
    }
   },
   "outputs": [],
   "source": [
    "LSTM_model = Sequential([\n",
    "    Embedding(vocab_size, 300), \n",
    "    LSTM(128),\n",
    "    Dense(20, activation=\"relu\"),\n",
    "    Dense(5, activation=\"softmax\")\n",
    "])"
   ]
  },
  {
   "cell_type": "code",
   "execution_count": 42,
   "id": "47533eab",
   "metadata": {
    "ExecuteTime": {
     "end_time": "2022-07-14T15:02:42.159410Z",
     "start_time": "2022-07-14T15:02:42.123429Z"
    }
   },
   "outputs": [
    {
     "name": "stdout",
     "output_type": "stream",
     "text": [
      "Model: \"sequential\"\n",
      "_________________________________________________________________\n",
      " Layer (type)                Output Shape              Param #   \n",
      "=================================================================\n",
      " embedding (Embedding)       (None, None, 300)         33764700  \n",
      "                                                                 \n",
      " lstm (LSTM)                 (None, 128)               219648    \n",
      "                                                                 \n",
      " dense (Dense)               (None, 20)                2580      \n",
      "                                                                 \n",
      " dense_1 (Dense)             (None, 5)                 105       \n",
      "                                                                 \n",
      "=================================================================\n",
      "Total params: 33,987,033\n",
      "Trainable params: 33,987,033\n",
      "Non-trainable params: 0\n",
      "_________________________________________________________________\n"
     ]
    }
   ],
   "source": [
    "LSTM_model.summary()"
   ]
  },
  {
   "cell_type": "code",
   "execution_count": 43,
   "id": "6019edfd",
   "metadata": {
    "ExecuteTime": {
     "end_time": "2022-07-14T15:04:20.776382Z",
     "start_time": "2022-07-14T15:04:20.731409Z"
    }
   },
   "outputs": [],
   "source": [
    "LSTM_model.compile(optimizer=\"adam\", loss=\"sparse_categorical_crossentropy\", metrics=[\"accuracy\"])"
   ]
  },
  {
   "cell_type": "code",
   "execution_count": 46,
   "id": "62ba586c",
   "metadata": {
    "ExecuteTime": {
     "end_time": "2022-07-14T16:09:11.618867Z",
     "start_time": "2022-07-14T15:07:46.739195Z"
    }
   },
   "outputs": [
    {
     "name": "stdout",
     "output_type": "stream",
     "text": [
      "Epoch 1/3\n",
      "426/426 [==============================] - 1358s 3s/step - loss: 1.3445 - accuracy: 0.3675 - val_loss: 1.3619 - val_accuracy: 0.3551\n",
      "Epoch 2/3\n",
      "426/426 [==============================] - 1187s 3s/step - loss: 1.3229 - accuracy: 0.3656 - val_loss: 1.1169 - val_accuracy: 0.4731\n",
      "Epoch 3/3\n",
      "426/426 [==============================] - 1140s 3s/step - loss: 0.6881 - accuracy: 0.7114 - val_loss: 0.2184 - val_accuracy: 0.9324\n"
     ]
    }
   ],
   "source": [
    "history = LSTM_model.fit(train_padded, y_train, batch_size=500, epochs=3, validation_data=(test_padded,y_test))"
   ]
  },
  {
   "cell_type": "code",
   "execution_count": 47,
   "id": "c77ebf9f",
   "metadata": {
    "ExecuteTime": {
     "end_time": "2022-07-14T16:19:58.090022Z",
     "start_time": "2022-07-14T16:19:58.071014Z"
    }
   },
   "outputs": [
    {
     "data": {
      "text/plain": [
       "[0.36746805906295776, 0.36556482315063477, 0.7113875150680542]"
      ]
     },
     "execution_count": 47,
     "metadata": {},
     "output_type": "execute_result"
    }
   ],
   "source": [
    "history.history[\"accuracy\"]"
   ]
  },
  {
   "cell_type": "code",
   "execution_count": 50,
   "id": "07290e94",
   "metadata": {
    "ExecuteTime": {
     "end_time": "2022-07-14T16:21:05.640079Z",
     "start_time": "2022-07-14T16:21:03.392923Z"
    }
   },
   "outputs": [
    {
     "data": {
      "text/plain": [
       "<matplotlib.legend.Legend at 0x22da2af99d0>"
      ]
     },
     "execution_count": 50,
     "metadata": {},
     "output_type": "execute_result"
    },
    {
     "data": {
      "image/png": "[encoded data removed]",
      "text/plain": [
       "<Figure size 432x288 with 1 Axes>"
      ]
     },
     "metadata": {
      "needs_background": "light"
     },
     "output_type": "display_data"
    }
   ],
   "source": [
    "plt.plot(history.history[\"accuracy\"])\n",
    "plt.plot(history.history[\"val_accuracy\"])\n",
    "plt.xlabel(\"Epoch\")\n",
    "plt.ylabel(\"Accuracy\")\n",
    "plt.title(\"Accuracy Plot\")\n",
    "plt.legend([\"Training\", \"Testing\"])"
   ]
  },
  {
   "cell_type": "code",
   "execution_count": 51,
   "id": "7419afd4",
   "metadata": {
    "ExecuteTime": {
     "end_time": "2022-07-14T16:21:38.580045Z",
     "start_time": "2022-07-14T16:21:38.289830Z"
    }
   },
   "outputs": [
    {
     "data": {
      "text/plain": [
       "<matplotlib.legend.Legend at 0x22da2fb1760>"
      ]
     },
     "execution_count": 51,
     "metadata": {},
     "output_type": "execute_result"
    },
    {
     "data": {
      "image/png": "[encoded data removed]",
      "text/plain": [
       "<Figure size 432x288 with 1 Axes>"
      ]
     },
     "metadata": {
      "needs_background": "light"
     },
     "output_type": "display_data"
    }
   ],
   "source": [
    "plt.plot(history.history[\"loss\"])\n",
    "plt.plot(history.history[\"val_loss\"])\n",
    "plt.xlabel(\"Epoch\")\n",
    "plt.ylabel(\"Loss\")\n",
    "plt.title(\"Loss Plot\")\n",
    "plt.legend([\"Training\", \"Testing\"])"
   ]
  },
  {
   "cell_type": "markdown",
   "id": "72d69511",
   "metadata": {},
   "source": [
    "# Saving the model and tokens"
   ]
  },
  {
   "cell_type": "code",
   "execution_count": 52,
   "id": "7e478e48",
   "metadata": {
    "ExecuteTime": {
     "end_time": "2022-07-14T16:21:59.089965Z",
     "start_time": "2022-07-14T16:21:52.013606Z"
    }
   },
   "outputs": [],
   "source": [
    "LSTM_model.save(\"LSTM_model.h5\")"
   ]
  },
  {
   "cell_type": "code",
   "execution_count": 53,
   "id": "d210d58a",
   "metadata": {
    "ExecuteTime": {
     "end_time": "2022-07-14T16:22:05.511071Z",
     "start_time": "2022-07-14T16:22:05.224724Z"
    }
   },
   "outputs": [],
   "source": [
    "import pickle\n",
    "\n",
    "with open('tok.pickle', 'wb') as handle:\n",
    "    pickle.dump(tok, handle, protocol=pickle.HIGHEST_PROTOCOL)\n",
    "    \n",
    "#with open('filename.pickle', 'rb') as handle:\n",
    "#   b = pickle.load(handle)\n",
    "#"
   ]
  },
  {
   "cell_type": "code",
   "execution_count": 54,
   "id": "52ca8f74",
   "metadata": {
    "ExecuteTime": {
     "end_time": "2022-07-14T16:22:09.761993Z",
     "start_time": "2022-07-14T16:22:09.748000Z"
    }
   },
   "outputs": [],
   "source": [
    "# As a NLP Engineer, once the model building is completed we are supposed to give 4 files to DevOps/deployment team:\n",
    "# 1. Requirement.txt file : This file contains all the important libraries needed for model execution\n",
    "# 2. model.h5 file : This file basically contains the entire model\n",
    "# 3. Tokenizer.pickle : This file basically contains word tokens\n",
    "# 4. Execution.py : This file is basically code of the model"
   ]
  },
  {
   "cell_type": "code",
   "execution_count": null,
   "id": "6fcc99a2",
   "metadata": {},
   "outputs": [],
   "source": []
  },
  {
   "cell_type": "code",
   "execution_count": null,
   "id": "c8664690",
   "metadata": {},
   "outputs": [],
   "source": []
  }
 ],
 "metadata": {
  "kernelspec": {
   "display_name": "Python 3 (ipykernel)",
   "language": "python",
   "name": "python3"
  },
  "language_info": {
   "codemirror_mode": {
    "name": "ipython",
    "version": 3
   },
   "file_extension": ".py",
   "mimetype": "text/x-python",
   "name": "python",
   "nbconvert_exporter": "python",
   "pygments_lexer": "ipython3",
   "version": "3.9.7"
  }
 },
 "nbformat": 4,
 "nbformat_minor": 5
}
