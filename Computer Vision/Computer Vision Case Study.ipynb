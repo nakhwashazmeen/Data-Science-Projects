{
 "cells": [
  {
   "cell_type": "code",
   "execution_count": 5,
   "id": "84001219",
   "metadata": {},
   "outputs": [
    {
     "name": "stdout",
     "output_type": "stream",
     "text": [
      "Collecting opencv-python\n",
      "  Downloading opencv_python-4.6.0.66-cp36-abi3-win_amd64.whl (35.6 MB)\n",
      "Requirement already satisfied: numpy>=1.14.5 in c:\\users\\acer\\anaconda3\\lib\\site-packages (from opencv-python) (1.20.3)\n",
      "Installing collected packages: opencv-python\n",
      "Successfully installed opencv-python-4.6.0.66\n"
     ]
    }
   ],
   "source": [
    "!pip install opencv-python"
   ]
  },
  {
   "cell_type": "code",
   "execution_count": 6,
   "id": "0b7b0ba5",
   "metadata": {
    "ExecuteTime": {
     "end_time": "2022-07-20T15:15:41.780468Z",
     "start_time": "2022-07-20T15:15:41.770469Z"
    }
   },
   "outputs": [],
   "source": [
    "import pandas as pd\n",
    "import numpy as np\n",
    "import matplotlib.pyplot as plt\n",
    "\n",
    "import os\n",
    "import cv2\n",
    "\n",
    "import tensorflow as tf\n",
    "from tensorflow.keras.models import Sequential\n",
    "from tensorflow.keras import layers\n",
    "from tensorflow.keras.applications.vgg19 import preprocess_input\n",
    "\n",
    "from bs4 import BeautifulSoup"
   ]
  },
  {
   "cell_type": "code",
   "execution_count": 2,
   "id": "c7db1516",
   "metadata": {
    "ExecuteTime": {
     "end_time": "2022-07-20T14:59:58.978523Z",
     "start_time": "2022-07-20T14:59:58.973526Z"
    }
   },
   "outputs": [],
   "source": [
    "images_path = \"./images/\"\n",
    "annotations_path = \"./annotations/\""
   ]
  },
  {
   "cell_type": "code",
   "execution_count": 3,
   "id": "ac385bb0",
   "metadata": {
    "ExecuteTime": {
     "end_time": "2022-07-20T15:01:30.896284Z",
     "start_time": "2022-07-20T15:01:30.884290Z"
    }
   },
   "outputs": [
    {
     "ename": "FileNotFoundError",
     "evalue": "[WinError 3] The system cannot find the path specified: './images/'",
     "output_type": "error",
     "traceback": [
      "\u001b[1;31m---------------------------------------------------------------------------\u001b[0m",
      "\u001b[1;31mFileNotFoundError\u001b[0m                         Traceback (most recent call last)",
      "\u001b[1;32m~\\AppData\\Local\\Temp/ipykernel_16852/859837182.py\u001b[0m in \u001b[0;36m<module>\u001b[1;34m\u001b[0m\n\u001b[1;32m----> 1\u001b[1;33m \u001b[0mimages\u001b[0m \u001b[1;33m=\u001b[0m \u001b[0msorted\u001b[0m\u001b[1;33m(\u001b[0m\u001b[0mos\u001b[0m\u001b[1;33m.\u001b[0m\u001b[0mlistdir\u001b[0m\u001b[1;33m(\u001b[0m\u001b[0mimages_path\u001b[0m\u001b[1;33m)\u001b[0m\u001b[1;33m)\u001b[0m\u001b[1;33m\u001b[0m\u001b[1;33m\u001b[0m\u001b[0m\n\u001b[0m\u001b[0;32m      2\u001b[0m \u001b[0mannotations\u001b[0m \u001b[1;33m=\u001b[0m \u001b[0msorted\u001b[0m\u001b[1;33m(\u001b[0m\u001b[0mos\u001b[0m\u001b[1;33m.\u001b[0m\u001b[0mlistdir\u001b[0m\u001b[1;33m(\u001b[0m\u001b[0mannotations_path\u001b[0m\u001b[1;33m)\u001b[0m\u001b[1;33m)\u001b[0m\u001b[1;33m\u001b[0m\u001b[1;33m\u001b[0m\u001b[0m\n",
      "\u001b[1;31mFileNotFoundError\u001b[0m: [WinError 3] The system cannot find the path specified: './images/'"
     ]
    }
   ],
   "source": [
    "images = sorted(os.listdir(images_path))\n",
    "annotations = sorted(os.listdir(annotations_path))"
   ]
  },
  {
   "cell_type": "code",
   "execution_count": null,
   "id": "fcb2b327",
   "metadata": {
    "ExecuteTime": {
     "end_time": "2022-07-20T15:01:44.906177Z",
     "start_time": "2022-07-20T15:01:44.892187Z"
    }
   },
   "outputs": [],
   "source": [
    "len(images)"
   ]
  },
  {
   "cell_type": "code",
   "execution_count": null,
   "id": "59fc132e",
   "metadata": {
    "ExecuteTime": {
     "end_time": "2022-07-20T15:01:53.215177Z",
     "start_time": "2022-07-20T15:01:53.209181Z"
    }
   },
   "outputs": [],
   "source": [
    "len(annotations)"
   ]
  },
  {
   "cell_type": "code",
   "execution_count": null,
   "id": "1bf94a26",
   "metadata": {
    "ExecuteTime": {
     "end_time": "2022-07-20T15:02:23.735537Z",
     "start_time": "2022-07-20T15:02:23.727545Z"
    }
   },
   "outputs": [],
   "source": [
    "images[23]"
   ]
  },
  {
   "cell_type": "code",
   "execution_count": null,
   "id": "33524aed",
   "metadata": {
    "ExecuteTime": {
     "end_time": "2022-07-20T15:02:27.374405Z",
     "start_time": "2022-07-20T15:02:27.366409Z"
    }
   },
   "outputs": [],
   "source": [
    "annotations[23]"
   ]
  },
  {
   "cell_type": "markdown",
   "id": "a52f8451",
   "metadata": {},
   "source": [
    "# Reading out all the images and xml files"
   ]
  },
  {
   "cell_type": "code",
   "execution_count": null,
   "id": "a6455526",
   "metadata": {
    "ExecuteTime": {
     "end_time": "2022-07-20T15:38:31.240747Z",
     "start_time": "2022-07-20T15:38:31.213762Z"
    }
   },
   "outputs": [],
   "source": [
    "def generate_labels(xml_loc):\n",
    "    \n",
    "    open(with xml_loc) as xml_file:\n",
    "        soup = BeautifulSoup(xml_file.read(),\"xml\") # Reads the xml file\n",
    "        objects = soup.find_all(\"object\") # reads the number of objects in the xml file\n",
    "        num_persons = len(objects) # counts the number of persons in the xml file\n",
    "        \n",
    "        \n",
    "        labels = []\n",
    "        boxes = []\n",
    "        for obj in objects:\n",
    "            if obj.find(\"name\").text == \"with_mask\":\n",
    "                labels.append(1)\n",
    "            elif obj.find(\"name\").text == \"without_mask\":\n",
    "                labels.append(0)\n",
    "            elif obj.find(\"name\").text == \"mask_weared_incorrect\":\n",
    "                labels.append(2)\n",
    "                \n",
    "            \n",
    "            xmin = int(obj.find(\"xmin\").text)\n",
    "            ymin = int(obj.find(\"ymin\").text)\n",
    "            xmax = int(obj.find(\"xmax\").text)\n",
    "            ymax = int(obj.find(\"ymax\").text)\n",
    "            \n",
    "            boxes.append([xmin,ymin,xmax,ymax])\n",
    "            \n",
    "            \n",
    "        labels = np.array(labels)\n",
    "        boxes = np.array(boxes)\n",
    "        \n",
    "        target = {}\n",
    "        target[\"labels\"] = labels\n",
    "        target[\"boxes\"] = boxes\n",
    "        \n",
    "        return target, num_persons\n",
    "        "
   ]
  },
  {
   "cell_type": "code",
   "execution_count": null,
   "id": "30bdddfb",
   "metadata": {
    "ExecuteTime": {
     "end_time": "2022-07-20T15:41:00.411862Z",
     "start_time": "2022-07-20T15:40:55.223209Z"
    }
   },
   "outputs": [],
   "source": [
    "target_all = []\n",
    "all_persons = []\n",
    "\n",
    "for file in annotations:\n",
    "    target, num_persons = generate_labels(annotations_path + file)\n",
    "    #print(target)\n",
    "    #print(num_persons)\n",
    "    target_all.append(target)\n",
    "    all_persons.append(num_persons)"
   ]
  },
  {
   "cell_type": "code",
   "execution_count": null,
   "id": "0a59b51d",
   "metadata": {
    "ExecuteTime": {
     "end_time": "2022-07-20T15:41:40.929107Z",
     "start_time": "2022-07-20T15:41:40.921115Z"
    }
   },
   "outputs": [],
   "source": [
    "sum(all_persons)"
   ]
  },
  {
   "cell_type": "markdown",
   "id": "bac3c625",
   "metadata": {},
   "source": [
    "# Preprocessing the input image"
   ]
  },
  {
   "cell_type": "code",
   "execution_count": null,
   "id": "91f63f08",
   "metadata": {},
   "outputs": [],
   "source": [
    "\n",
    "\n",
    "\n",
    "for i, images_loc in enumerate(images):\n",
    "    image_loaded = cv2.imread(image_path +images_loc)\n",
    "    for j in range(0,all_person[i]):\n",
    "        face_loc = target_all[j][\"boxes\"][i]\n",
    "        temp_face = image_loaded[...]\n",
    "        "
   ]
  },
  {
   "cell_type": "code",
   "execution_count": null,
   "id": "b31bb054",
   "metadata": {},
   "outputs": [],
   "source": [
    "target_all[0][\"boxes\"][0]"
   ]
  },
  {
   "cell_type": "code",
   "execution_count": null,
   "id": "c9499bf0",
   "metadata": {},
   "outputs": [],
   "source": []
  }
 ],
 "metadata": {
  "kernelspec": {
   "display_name": "Python 3 (ipykernel)",
   "language": "python",
   "name": "python3"
  },
  "language_info": {
   "codemirror_mode": {
    "name": "ipython",
    "version": 3
   },
   "file_extension": ".py",
   "mimetype": "text/x-python",
   "name": "python",
   "nbconvert_exporter": "python",
   "pygments_lexer": "ipython3",
   "version": "3.9.7"
  }
 },
 "nbformat": 4,
 "nbformat_minor": 5
}
